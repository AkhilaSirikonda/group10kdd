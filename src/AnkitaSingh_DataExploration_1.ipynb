{
 "cells": [
  {
   "cell_type": "code",
   "execution_count": 7,
   "id": "0bd10ad5",
   "metadata": {},
   "outputs": [
    {
     "name": "stdout",
     "output_type": "stream",
     "text": [
      "/Users/ankitasingh/Desktop/6162-KnowledgeDiscoveryInDatabases/Project\n"
     ]
    }
   ],
   "source": [
    "cd /Users/ankitasingh/Desktop/6162-KnowledgeDiscoveryInDatabases/Project"
   ]
  },
  {
   "cell_type": "code",
   "execution_count": 9,
   "id": "d4c15a15",
   "metadata": {},
   "outputs": [
    {
     "name": "stdout",
     "output_type": "stream",
     "text": [
      "    school sex  age address famsize Pstatus  Medu  Fedu      Mjob      Fjob  \\\n",
      "0       GP   F   18       U     GT3       A     4     4   at_home   teacher   \n",
      "1       GP   F   17       U     GT3       T     1     1   at_home     other   \n",
      "2       GP   F   15       U     LE3       T     1     1   at_home     other   \n",
      "3       GP   F   15       U     GT3       T     4     2    health  services   \n",
      "4       GP   F   16       U     GT3       T     3     3     other     other   \n",
      "..     ...  ..  ...     ...     ...     ...   ...   ...       ...       ...   \n",
      "390     MS   M   20       U     LE3       A     2     2  services  services   \n",
      "391     MS   M   17       U     LE3       T     3     1  services  services   \n",
      "392     MS   M   21       R     GT3       T     1     1     other     other   \n",
      "393     MS   M   18       R     LE3       T     3     2  services     other   \n",
      "394     MS   M   19       U     LE3       T     1     1     other   at_home   \n",
      "\n",
      "     ... goout Dalc  Walc  health  absences  G1  G2  G3 avgscore y_binary  \n",
      "0    ...     4    1     1       3         6   5   6   6     5.67        0  \n",
      "1    ...     3    1     1       3         4   5   5   6     5.33        0  \n",
      "2    ...     2    2     3       3        10   7   8  10     8.33        0  \n",
      "3    ...     2    1     1       5         2  15  14  15    14.67        1  \n",
      "4    ...     2    1     2       5         4   6  10  10     8.67        0  \n",
      "..   ...   ...  ...   ...     ...       ...  ..  ..  ..      ...      ...  \n",
      "390  ...     4    4     5       4        11   9   9   9     9.00        0  \n",
      "391  ...     5    3     4       2         3  14  16  16    15.33        1  \n",
      "392  ...     3    3     3       3         3  10   8   7     8.33        0  \n",
      "393  ...     1    3     4       5         0  11  12  10    11.00        1  \n",
      "394  ...     3    3     3       5         5   8   9   9     8.67        0  \n",
      "\n",
      "[395 rows x 35 columns]\n"
     ]
    }
   ],
   "source": [
    "import pandas as pd\n",
    "stud_df = pd.read_csv('student-mat-v1.csv')\n",
    "print(stud_df)"
   ]
  },
  {
   "cell_type": "code",
   "execution_count": 10,
   "id": "87ce96bd",
   "metadata": {},
   "outputs": [
    {
     "data": {
      "text/html": [
       "<div>\n",
       "<style scoped>\n",
       "    .dataframe tbody tr th:only-of-type {\n",
       "        vertical-align: middle;\n",
       "    }\n",
       "\n",
       "    .dataframe tbody tr th {\n",
       "        vertical-align: top;\n",
       "    }\n",
       "\n",
       "    .dataframe thead th {\n",
       "        text-align: right;\n",
       "    }\n",
       "</style>\n",
       "<table border=\"1\" class=\"dataframe\">\n",
       "  <thead>\n",
       "    <tr style=\"text-align: right;\">\n",
       "      <th></th>\n",
       "      <th>school</th>\n",
       "      <th>sex</th>\n",
       "      <th>age</th>\n",
       "      <th>address</th>\n",
       "      <th>famsize</th>\n",
       "      <th>Pstatus</th>\n",
       "      <th>Medu</th>\n",
       "      <th>Fedu</th>\n",
       "      <th>Mjob</th>\n",
       "      <th>Fjob</th>\n",
       "      <th>...</th>\n",
       "      <th>goout</th>\n",
       "      <th>Dalc</th>\n",
       "      <th>Walc</th>\n",
       "      <th>health</th>\n",
       "      <th>absences</th>\n",
       "      <th>G1</th>\n",
       "      <th>G2</th>\n",
       "      <th>G3</th>\n",
       "      <th>avgscore</th>\n",
       "      <th>y_binary</th>\n",
       "    </tr>\n",
       "  </thead>\n",
       "  <tbody>\n",
       "    <tr>\n",
       "      <th>0</th>\n",
       "      <td>GP</td>\n",
       "      <td>F</td>\n",
       "      <td>18</td>\n",
       "      <td>U</td>\n",
       "      <td>GT3</td>\n",
       "      <td>A</td>\n",
       "      <td>4</td>\n",
       "      <td>4</td>\n",
       "      <td>at_home</td>\n",
       "      <td>teacher</td>\n",
       "      <td>...</td>\n",
       "      <td>4</td>\n",
       "      <td>1</td>\n",
       "      <td>1</td>\n",
       "      <td>3</td>\n",
       "      <td>6</td>\n",
       "      <td>5</td>\n",
       "      <td>6</td>\n",
       "      <td>6</td>\n",
       "      <td>5.67</td>\n",
       "      <td>0</td>\n",
       "    </tr>\n",
       "    <tr>\n",
       "      <th>1</th>\n",
       "      <td>GP</td>\n",
       "      <td>F</td>\n",
       "      <td>17</td>\n",
       "      <td>U</td>\n",
       "      <td>GT3</td>\n",
       "      <td>T</td>\n",
       "      <td>1</td>\n",
       "      <td>1</td>\n",
       "      <td>at_home</td>\n",
       "      <td>other</td>\n",
       "      <td>...</td>\n",
       "      <td>3</td>\n",
       "      <td>1</td>\n",
       "      <td>1</td>\n",
       "      <td>3</td>\n",
       "      <td>4</td>\n",
       "      <td>5</td>\n",
       "      <td>5</td>\n",
       "      <td>6</td>\n",
       "      <td>5.33</td>\n",
       "      <td>0</td>\n",
       "    </tr>\n",
       "    <tr>\n",
       "      <th>2</th>\n",
       "      <td>GP</td>\n",
       "      <td>F</td>\n",
       "      <td>15</td>\n",
       "      <td>U</td>\n",
       "      <td>LE3</td>\n",
       "      <td>T</td>\n",
       "      <td>1</td>\n",
       "      <td>1</td>\n",
       "      <td>at_home</td>\n",
       "      <td>other</td>\n",
       "      <td>...</td>\n",
       "      <td>2</td>\n",
       "      <td>2</td>\n",
       "      <td>3</td>\n",
       "      <td>3</td>\n",
       "      <td>10</td>\n",
       "      <td>7</td>\n",
       "      <td>8</td>\n",
       "      <td>10</td>\n",
       "      <td>8.33</td>\n",
       "      <td>0</td>\n",
       "    </tr>\n",
       "    <tr>\n",
       "      <th>3</th>\n",
       "      <td>GP</td>\n",
       "      <td>F</td>\n",
       "      <td>15</td>\n",
       "      <td>U</td>\n",
       "      <td>GT3</td>\n",
       "      <td>T</td>\n",
       "      <td>4</td>\n",
       "      <td>2</td>\n",
       "      <td>health</td>\n",
       "      <td>services</td>\n",
       "      <td>...</td>\n",
       "      <td>2</td>\n",
       "      <td>1</td>\n",
       "      <td>1</td>\n",
       "      <td>5</td>\n",
       "      <td>2</td>\n",
       "      <td>15</td>\n",
       "      <td>14</td>\n",
       "      <td>15</td>\n",
       "      <td>14.67</td>\n",
       "      <td>1</td>\n",
       "    </tr>\n",
       "    <tr>\n",
       "      <th>4</th>\n",
       "      <td>GP</td>\n",
       "      <td>F</td>\n",
       "      <td>16</td>\n",
       "      <td>U</td>\n",
       "      <td>GT3</td>\n",
       "      <td>T</td>\n",
       "      <td>3</td>\n",
       "      <td>3</td>\n",
       "      <td>other</td>\n",
       "      <td>other</td>\n",
       "      <td>...</td>\n",
       "      <td>2</td>\n",
       "      <td>1</td>\n",
       "      <td>2</td>\n",
       "      <td>5</td>\n",
       "      <td>4</td>\n",
       "      <td>6</td>\n",
       "      <td>10</td>\n",
       "      <td>10</td>\n",
       "      <td>8.67</td>\n",
       "      <td>0</td>\n",
       "    </tr>\n",
       "  </tbody>\n",
       "</table>\n",
       "<p>5 rows × 35 columns</p>\n",
       "</div>"
      ],
      "text/plain": [
       "  school sex  age address famsize Pstatus  Medu  Fedu     Mjob      Fjob  ...  \\\n",
       "0     GP   F   18       U     GT3       A     4     4  at_home   teacher  ...   \n",
       "1     GP   F   17       U     GT3       T     1     1  at_home     other  ...   \n",
       "2     GP   F   15       U     LE3       T     1     1  at_home     other  ...   \n",
       "3     GP   F   15       U     GT3       T     4     2   health  services  ...   \n",
       "4     GP   F   16       U     GT3       T     3     3    other     other  ...   \n",
       "\n",
       "  goout Dalc  Walc  health  absences  G1  G2  G3 avgscore y_binary  \n",
       "0     4    1     1       3         6   5   6   6     5.67        0  \n",
       "1     3    1     1       3         4   5   5   6     5.33        0  \n",
       "2     2    2     3       3        10   7   8  10     8.33        0  \n",
       "3     2    1     1       5         2  15  14  15    14.67        1  \n",
       "4     2    1     2       5         4   6  10  10     8.67        0  \n",
       "\n",
       "[5 rows x 35 columns]"
      ]
     },
     "execution_count": 10,
     "metadata": {},
     "output_type": "execute_result"
    }
   ],
   "source": [
    "stud_df.head()"
   ]
  },
  {
   "cell_type": "code",
   "execution_count": 14,
   "id": "f603aea7",
   "metadata": {},
   "outputs": [
    {
     "name": "stdout",
     "output_type": "stream",
     "text": [
      "0      GP\n",
      "1      GP\n",
      "2      GP\n",
      "3      GP\n",
      "4      GP\n",
      "       ..\n",
      "390    MS\n",
      "391    MS\n",
      "392    MS\n",
      "393    MS\n",
      "394    MS\n",
      "Name: school, Length: 395, dtype: object 0       5.67\n",
      "1       5.33\n",
      "2       8.33\n",
      "3      14.67\n",
      "4       8.67\n",
      "       ...  \n",
      "390     9.00\n",
      "391    15.33\n",
      "392     8.33\n",
      "393    11.00\n",
      "394     8.67\n",
      "Name: avgscore, Length: 395, dtype: float64\n"
     ]
    }
   ],
   "source": [
    "print(stud_df[\"school\"],stud_df[\"avgscore\"])\n"
   ]
  },
  {
   "cell_type": "code",
   "execution_count": 12,
   "id": "1b29dc39",
   "metadata": {},
   "outputs": [],
   "source": [
    "import seaborn as sns\n",
    "import matplotlib.pyplot as plt\n",
    "sns.set_theme(style=\"ticks\", color_codes=True)"
   ]
  },
  {
   "cell_type": "code",
   "execution_count": 17,
   "id": "c8efd45e",
   "metadata": {},
   "outputs": [
    {
     "data": {
      "text/plain": [
       "5      M\n",
       "6      M\n",
       "8      M\n",
       "9      M\n",
       "12     M\n",
       "      ..\n",
       "390    M\n",
       "391    M\n",
       "392    M\n",
       "393    M\n",
       "394    M\n",
       "Name: sex, Length: 187, dtype: object"
      ]
     },
     "execution_count": 17,
     "metadata": {},
     "output_type": "execute_result"
    }
   ],
   "source": [
    "df_M = stud_df[\"sex\"].loc[stud_df[\"sex\"] == \"M\"]\n",
    "df_M"
   ]
  },
  {
   "cell_type": "code",
   "execution_count": 18,
   "id": "f5773c81",
   "metadata": {},
   "outputs": [
    {
     "data": {
      "text/plain": [
       "0      F\n",
       "1      F\n",
       "2      F\n",
       "3      F\n",
       "4      F\n",
       "      ..\n",
       "385    F\n",
       "386    F\n",
       "387    F\n",
       "388    F\n",
       "389    F\n",
       "Name: sex, Length: 208, dtype: object"
      ]
     },
     "execution_count": 18,
     "metadata": {},
     "output_type": "execute_result"
    }
   ],
   "source": [
    "df_F = stud_df[\"sex\"].loc[stud_df[\"sex\"] == \"F\"]\n",
    "df_F"
   ]
  },
  {
   "cell_type": "code",
   "execution_count": 19,
   "id": "6d017405",
   "metadata": {},
   "outputs": [
    {
     "data": {
      "image/png": "[encoded data removed]",
      "text/plain": [
       "<Figure size 432x288 with 1 Axes>"
      ]
     },
     "metadata": {},
     "output_type": "display_data"
    }
   ],
   "source": [
    "labels = 'M', 'F'\n",
    "levels = [df_M.size, df_F.size]\n",
    "explode = (0.1, 0)\n",
    "\n",
    "fig1, ax1 = plt.subplots()\n",
    "ax1.pie(levels, explode=explode, labels=labels, autopct='%1.1f%%',\n",
    "        shadow=False, startangle=0)\n",
    "ax1.axis('equal')\n",
    "\n",
    "plt.show()"
   ]
  },
  {
   "cell_type": "code",
   "execution_count": 20,
   "id": "0302580f",
   "metadata": {},
   "outputs": [
    {
     "data": {
      "text/plain": [
       "0      GP\n",
       "1      GP\n",
       "2      GP\n",
       "3      GP\n",
       "4      GP\n",
       "       ..\n",
       "344    GP\n",
       "345    GP\n",
       "346    GP\n",
       "347    GP\n",
       "348    GP\n",
       "Name: school, Length: 349, dtype: object"
      ]
     },
     "execution_count": 20,
     "metadata": {},
     "output_type": "execute_result"
    }
   ],
   "source": [
    "GP = stud_df[\"school\"].loc[stud_df[\"school\"] == \"GP\"]\n",
    "GP\n"
   ]
  },
  {
   "cell_type": "code",
   "execution_count": 21,
   "id": "ec3b0ac9",
   "metadata": {},
   "outputs": [
    {
     "data": {
      "text/plain": [
       "349    MS\n",
       "350    MS\n",
       "351    MS\n",
       "352    MS\n",
       "353    MS\n",
       "354    MS\n",
       "355    MS\n",
       "356    MS\n",
       "357    MS\n",
       "358    MS\n",
       "359    MS\n",
       "360    MS\n",
       "361    MS\n",
       "362    MS\n",
       "363    MS\n",
       "364    MS\n",
       "365    MS\n",
       "366    MS\n",
       "367    MS\n",
       "368    MS\n",
       "369    MS\n",
       "370    MS\n",
       "371    MS\n",
       "372    MS\n",
       "373    MS\n",
       "374    MS\n",
       "375    MS\n",
       "376    MS\n",
       "377    MS\n",
       "378    MS\n",
       "379    MS\n",
       "380    MS\n",
       "381    MS\n",
       "382    MS\n",
       "383    MS\n",
       "384    MS\n",
       "385    MS\n",
       "386    MS\n",
       "387    MS\n",
       "388    MS\n",
       "389    MS\n",
       "390    MS\n",
       "391    MS\n",
       "392    MS\n",
       "393    MS\n",
       "394    MS\n",
       "Name: school, dtype: object"
      ]
     },
     "execution_count": 21,
     "metadata": {},
     "output_type": "execute_result"
    }
   ],
   "source": [
    "MS = stud_df[\"school\"].loc[stud_df[\"school\"] == \"MS\"]\n",
    "MS\n"
   ]
  },
  {
   "cell_type": "code",
   "execution_count": 102,
   "id": "519d9013",
   "metadata": {},
   "outputs": [
    {
     "data": {
      "text/plain": [
       "0      F\n",
       "1      F\n",
       "2      F\n",
       "3      F\n",
       "4      F\n",
       "      ..\n",
       "344    F\n",
       "345    F\n",
       "346    M\n",
       "347    M\n",
       "348    F\n",
       "Name: sex, Length: 349, dtype: object"
      ]
     },
     "execution_count": 102,
     "metadata": {},
     "output_type": "execute_result"
    }
   ],
   "source": [
    "GPS= stud_df[\"sex\"].loc[stud_df[\"school\"] == \"GP\"]\n",
    "GPS\n"
   ]
  },
  {
   "cell_type": "code",
   "execution_count": 35,
   "id": "6f44a1fe",
   "metadata": {},
   "outputs": [
    {
     "data": {
      "image/png": "[encoded data removed]",
      "text/plain": [
       "<Figure size 432x288 with 1 Axes>"
      ]
     },
     "metadata": {},
     "output_type": "display_data"
    }
   ],
   "source": [
    "labels = 'M', 'F'\n",
    "levels = [labels = 'No Education', 'Elementary School', 'Middle School', 'High School', 'College and Higher'\n",
    "levels = [fA.loc[fA==0].size, fA.loc[fA==1].size, fA.loc[fA==2].size, fA.loc[fA==3].size, fA.loc[fA==4].size]\n",
    "explode = (0, 0, 0, 0, 0) \n",
    "\n",
    "fig1, ax1 = plt.subplots()\n",
    "ax1.pie(levels, explode=explode, labels=labels, autopct='%1.1f%%',\n",
    "        shadow=False, startangle=0)\n",
    "ax1.axis('equal') \n",
    "\n",
    "plt.show().loc[GPS==\"M\"].size,GPS.loc[GPS==\"F\"].size]\n",
    "explode = (0,0) \n",
    "\n",
    "fig1, ax1 = plt.subplots()\n",
    "ax1.pie(levels, explode=explode, labels=labels, autopct='%1.1f%%',\n",
    "        shadow=False, startangle=0)\n",
    "ax1.axis('equal') \n",
    "\n",
    "plt.show()"
   ]
  },
  {
   "cell_type": "code",
   "execution_count": 36,
   "id": "d8d083da",
   "metadata": {},
   "outputs": [
    {
     "data": {
      "text/plain": [
       "349    M\n",
       "350    M\n",
       "351    M\n",
       "352    M\n",
       "353    M\n",
       "354    M\n",
       "355    F\n",
       "356    F\n",
       "357    F\n",
       "358    M\n",
       "359    F\n",
       "360    F\n",
       "361    M\n",
       "362    F\n",
       "363    F\n",
       "364    F\n",
       "365    M\n",
       "366    M\n",
       "367    F\n",
       "368    F\n",
       "369    F\n",
       "370    F\n",
       "371    M\n",
       "372    F\n",
       "373    F\n",
       "374    F\n",
       "375    F\n",
       "376    F\n",
       "377    F\n",
       "378    F\n",
       "379    F\n",
       "380    M\n",
       "381    M\n",
       "382    M\n",
       "383    M\n",
       "384    M\n",
       "385    F\n",
       "386    F\n",
       "387    F\n",
       "388    F\n",
       "389    F\n",
       "390    M\n",
       "391    M\n",
       "392    M\n",
       "393    M\n",
       "394    M\n",
       "Name: sex, dtype: object"
      ]
     },
     "execution_count": 36,
     "metadata": {},
     "output_type": "execute_result"
    }
   ],
   "source": [
    "MSS= stud_df[\"sex\"].loc[stud_df[\"school\"] == \"MS\"]\n",
    "MSS"
   ]
  },
  {
   "cell_type": "code",
   "execution_count": 37,
   "id": "956a3ef9",
   "metadata": {},
   "outputs": [
    {
     "data": {
      "image/png": "[encoded data removed]",
      "text/plain": [
       "<Figure size 432x288 with 1 Axes>"
      ]
     },
     "metadata": {},
     "output_type": "display_data"
    }
   ],
   "source": [
    "labels = 'M', 'F'\n",
    "levels = [MSS.loc[MSS==\"M\"].size,MSS.loc[MSS==\"F\"].size]\n",
    "explode = (0,0) \n",
    "\n",
    "fig1, ax1 = plt.subplots()\n",
    "ax1.pie(levels, explode=explode, labels=labels, autopct='%1.1f%%',\n",
    "        shadow=False, startangle=0)\n",
    "ax1.axis('equal') \n",
    "\n",
    "plt.show()"
   ]
  },
  {
   "cell_type": "markdown",
   "id": "f4dad6a8",
   "metadata": {},
   "source": [
    "Now we will visualize the average scores of the students\n",
    "The scores will be converted to the 5 letter grading scale as shown below:\n",
    "A: >= 90\n",
    "B: >= 80\n",
    "C: >= 70\n",
    "D: >= 60\n",
    "F: <= 59"
   ]
  },
  {
   "cell_type": "code",
   "execution_count": 38,
   "id": "53e9ae49",
   "metadata": {},
   "outputs": [
    {
     "data": {
      "text/plain": [
       "42     18.33\n",
       "47     19.33\n",
       "110    18.67\n",
       "113    18.67\n",
       "129    18.00\n",
       "198    18.00\n",
       "245    18.00\n",
       "286    18.33\n",
       "293    18.00\n",
       "374    18.67\n",
       "Name: avgscore, dtype: float64"
      ]
     },
     "execution_count": 38,
     "metadata": {},
     "output_type": "execute_result"
    }
   ],
   "source": [
    "A = stud_df[\"avgscore\"].loc[stud_df[\"avgscore\"]/20 * 100 >= 90]\n",
    "A"
   ]
  },
  {
   "cell_type": "code",
   "execution_count": 39,
   "id": "d543cf79",
   "metadata": {},
   "outputs": [
    {
     "data": {
      "text/plain": [
       "8      17.67\n",
       "31     16.67\n",
       "32     16.33\n",
       "36     16.33\n",
       "69     16.00\n",
       "91     17.00\n",
       "101    16.67\n",
       "104    17.33\n",
       "107    17.33\n",
       "182    16.67\n",
       "196    16.00\n",
       "200    16.00\n",
       "222    16.33\n",
       "260    17.67\n",
       "265    17.00\n",
       "303    17.33\n",
       "306    17.67\n",
       "338    16.00\n",
       "359    16.67\n",
       "Name: avgscore, dtype: float64"
      ]
     },
     "execution_count": 39,
     "metadata": {},
     "output_type": "execute_result"
    }
   ],
   "source": [
    "B = stud_df[\"avgscore\"].loc[(stud_df[\"avgscore\"]/20 * 100).between(80,89,inclusive=True)]\n",
    "B"
   ]
  },
  {
   "cell_type": "code",
   "execution_count": 40,
   "id": "d34af271",
   "metadata": {},
   "outputs": [
    {
     "data": {
      "text/plain": [
       "3      14.67\n",
       "5      15.00\n",
       "9      14.67\n",
       "12     14.00\n",
       "14     15.33\n",
       "15     14.00\n",
       "20     14.00\n",
       "21     14.00\n",
       "22     15.33\n",
       "27     15.33\n",
       "37     15.33\n",
       "48     14.67\n",
       "56     14.67\n",
       "57     14.67\n",
       "59     15.67\n",
       "65     15.33\n",
       "70     14.33\n",
       "83     15.00\n",
       "109    15.00\n",
       "115    15.33\n",
       "120    15.33\n",
       "121    15.00\n",
       "139    15.67\n",
       "158    15.67\n",
       "167    15.00\n",
       "169    14.00\n",
       "171    14.67\n",
       "187    15.00\n",
       "195    14.67\n",
       "215    14.67\n",
       "226    15.33\n",
       "249    14.33\n",
       "258    14.33\n",
       "271    14.33\n",
       "273    14.33\n",
       "288    14.33\n",
       "289    14.33\n",
       "291    15.00\n",
       "299    15.67\n",
       "304    14.00\n",
       "324    15.33\n",
       "326    15.00\n",
       "329    14.00\n",
       "335    15.33\n",
       "342    15.33\n",
       "346    15.67\n",
       "348    14.33\n",
       "363    15.33\n",
       "376    14.67\n",
       "378    15.00\n",
       "380    14.33\n",
       "391    15.33\n",
       "Name: avgscore, dtype: float64"
      ]
     },
     "execution_count": 40,
     "metadata": {},
     "output_type": "execute_result"
    }
   ],
   "source": [
    "C = stud_df[\"avgscore\"].loc[(stud_df[\"avgscore\"]/20 * 100).between(70,79,inclusive=True)]\n",
    "C"
   ]
  },
  {
   "cell_type": "code",
   "execution_count": 41,
   "id": "8fa8622b",
   "metadata": {},
   "outputs": [
    {
     "data": {
      "text/plain": [
       "16     13.67\n",
       "23     12.67\n",
       "34     13.67\n",
       "39     13.33\n",
       "41     12.00\n",
       "       ...  \n",
       "360    13.00\n",
       "361    12.33\n",
       "366    13.00\n",
       "369    12.33\n",
       "371    12.67\n",
       "Name: avgscore, Length: 71, dtype: float64"
      ]
     },
     "execution_count": 41,
     "metadata": {},
     "output_type": "execute_result"
    }
   ],
   "source": [
    "D = stud_df[\"avgscore\"].loc[(stud_df[\"avgscore\"]/20 * 100).between(60,69,inclusive=True)]\n",
    "D"
   ]
  },
  {
   "cell_type": "code",
   "execution_count": 42,
   "id": "e7fa36e0",
   "metadata": {},
   "outputs": [
    {
     "data": {
      "text/plain": [
       "0       5.67\n",
       "1       5.33\n",
       "2       8.33\n",
       "4       8.67\n",
       "6      11.67\n",
       "       ...  \n",
       "389     3.67\n",
       "390     9.00\n",
       "392     8.33\n",
       "393    11.00\n",
       "394     8.67\n",
       "Name: avgscore, Length: 243, dtype: float64"
      ]
     },
     "execution_count": 42,
     "metadata": {},
     "output_type": "execute_result"
    }
   ],
   "source": [
    "F = stud_df[\"avgscore\"].loc[(stud_df[\"avgscore\"]/20 * 100).between(0,59,inclusive=True)]\n",
    "F"
   ]
  },
  {
   "cell_type": "markdown",
   "id": "ac1bcdfc",
   "metadata": {},
   "source": [
    "Grade distrubution in students"
   ]
  },
  {
   "cell_type": "code",
   "execution_count": 43,
   "id": "23e0f701",
   "metadata": {},
   "outputs": [
    {
     "data": {
      "image/png": "[encoded data removed]",
      "text/plain": [
       "<Figure size 432x288 with 1 Axes>"
      ]
     },
     "metadata": {},
     "output_type": "display_data"
    }
   ],
   "source": [
    "labels = 'A', 'B', 'C', 'D', 'F'\n",
    "levels = [A.size, B.size, C.size, D.size, F.size]\n",
    "explode = (0.1, 0, 0, 0, 0) \n",
    "\n",
    "fig1, ax1 = plt.subplots()\n",
    "ax1.pie(levels, explode=explode, labels=labels, autopct='%1.1f%%',\n",
    "        shadow=False, startangle=0)\n",
    "ax1.axis('equal') \n",
    "\n",
    "plt.show()"
   ]
  },
  {
   "cell_type": "markdown",
   "id": "0d658175",
   "metadata": {},
   "source": [
    "GP School Male/Female for students who got a A average"
   ]
  },
  {
   "cell_type": "code",
   "execution_count": 57,
   "id": "404190ec",
   "metadata": {},
   "outputs": [
    {
     "data": {
      "text/plain": [
       "42     M\n",
       "47     M\n",
       "110    M\n",
       "113    M\n",
       "129    M\n",
       "198    F\n",
       "245    M\n",
       "286    F\n",
       "293    F\n",
       "Name: sex, dtype: object"
      ]
     },
     "execution_count": 57,
     "metadata": {},
     "output_type": "execute_result"
    }
   ],
   "source": [
    "GPA= GPS.loc[stud_df[\"avgscore\"]/20 * 100 >= 90]\n",
    "GPA"
   ]
  },
  {
   "cell_type": "code",
   "execution_count": 58,
   "id": "bd3e097a",
   "metadata": {},
   "outputs": [
    {
     "data": {
      "image/png": "[encoded data removed]",
      "text/plain": [
       "<Figure size 432x288 with 1 Axes>"
      ]
     },
     "metadata": {},
     "output_type": "display_data"
    }
   ],
   "source": [
    "labels = 'M', 'F'\n",
    "levels = [GPA.loc[GPA==\"M\"].size, GPA.loc[GPA==\"F\"].size]\n",
    "explode = (0, 0) \n",
    "\n",
    "fig1, ax1 = plt.subplots()\n",
    "ax1.pie(levels, explode=explode, labels=labels, autopct='%1.1f%%',\n",
    "        shadow=False, startangle=0)\n",
    "ax1.axis('equal') \n",
    "\n",
    "plt.show()"
   ]
  },
  {
   "cell_type": "markdown",
   "id": "dd5bafb8",
   "metadata": {},
   "source": [
    "MS School Male/Female for students who got a A average"
   ]
  },
  {
   "cell_type": "code",
   "execution_count": 59,
   "id": "080fae02",
   "metadata": {},
   "outputs": [
    {
     "data": {
      "text/plain": [
       "374    F\n",
       "Name: sex, dtype: object"
      ]
     },
     "execution_count": 59,
     "metadata": {},
     "output_type": "execute_result"
    }
   ],
   "source": [
    "MSA= MSS.loc[stud_df[\"avgscore\"]/20 * 100 >= 90]\n",
    "MSA"
   ]
  },
  {
   "cell_type": "code",
   "execution_count": 60,
   "id": "536cd8d6",
   "metadata": {},
   "outputs": [
    {
     "data": {
      "image/png": "[encoded data removed]",
      "text/plain": [
       "<Figure size 432x288 with 1 Axes>"
      ]
     },
     "metadata": {},
     "output_type": "display_data"
    }
   ],
   "source": [
    "labels = 'M', 'F'\n",
    "levels = [MSA.loc[MSA==\"M\"].size, MSA.loc[MSA==\"F\"].size]\n",
    "explode = (0, 0) \n",
    "\n",
    "fig1, ax1 = plt.subplots()\n",
    "ax1.pie(levels, explode=explode, labels=labels, autopct='%1.1f%%',\n",
    "        shadow=False, startangle=0)\n",
    "ax1.axis('equal') \n",
    "\n",
    "plt.show()"
   ]
  },
  {
   "cell_type": "markdown",
   "id": "b15b3178",
   "metadata": {},
   "source": [
    "GP School Male/Female for students who got a B average\n"
   ]
  },
  {
   "cell_type": "code",
   "execution_count": 62,
   "id": "64eccce4",
   "metadata": {},
   "outputs": [
    {
     "data": {
      "text/plain": [
       "8      M\n",
       "31     M\n",
       "32     M\n",
       "36     M\n",
       "69     F\n",
       "91     F\n",
       "101    M\n",
       "104    M\n",
       "107    M\n",
       "182    F\n",
       "196    M\n",
       "200    F\n",
       "222    F\n",
       "260    F\n",
       "265    M\n",
       "303    F\n",
       "306    M\n",
       "338    F\n",
       "Name: sex, dtype: object"
      ]
     },
     "execution_count": 62,
     "metadata": {},
     "output_type": "execute_result"
    }
   ],
   "source": [
    "GPB= GPS.loc[(stud_df[\"avgscore\"]/20 * 100).between(80,89,inclusive=True)]\n",
    "GPB"
   ]
  },
  {
   "cell_type": "code",
   "execution_count": 63,
   "id": "29366320",
   "metadata": {},
   "outputs": [
    {
     "data": {
      "image/png": "[encoded data removed]",
      "text/plain": [
       "<Figure size 432x288 with 1 Axes>"
      ]
     },
     "metadata": {},
     "output_type": "display_data"
    }
   ],
   "source": [
    "labels = 'M', 'F'\n",
    "levels = [GPB.loc[GPB==\"M\"].size, GPB.loc[GPB==\"F\"].size]\n",
    "explode = (0, 0) \n",
    "\n",
    "fig1, ax1 = plt.subplots()\n",
    "ax1.pie(levels, explode=explode, labels=labels, autopct='%1.1f%%',\n",
    "        shadow=False, startangle=0)\n",
    "ax1.axis('equal') \n",
    "\n",
    "plt.show()"
   ]
  },
  {
   "cell_type": "markdown",
   "id": "c3416bfc",
   "metadata": {},
   "source": [
    "MS School Male/Female for students who got a B average\n"
   ]
  },
  {
   "cell_type": "code",
   "execution_count": 64,
   "id": "64e71eb3",
   "metadata": {},
   "outputs": [
    {
     "data": {
      "text/plain": [
       "359    F\n",
       "Name: sex, dtype: object"
      ]
     },
     "execution_count": 64,
     "metadata": {},
     "output_type": "execute_result"
    }
   ],
   "source": [
    "MSB= MSS.loc[(stud_df[\"avgscore\"]/20 * 100).between(80,89,inclusive=True)]\n",
    "MSB"
   ]
  },
  {
   "cell_type": "code",
   "execution_count": 65,
   "id": "4e29484d",
   "metadata": {},
   "outputs": [
    {
     "data": {
      "image/png": "[encoded data removed]",
      "text/plain": [
       "<Figure size 432x288 with 1 Axes>"
      ]
     },
     "metadata": {},
     "output_type": "display_data"
    }
   ],
   "source": [
    "labels = 'M', 'F'\n",
    "levels = [MSB.loc[MSB==\"M\"].size, MSB.loc[MSB==\"F\"].size]\n",
    "explode = (0, 0) \n",
    "\n",
    "fig1, ax1 = plt.subplots()\n",
    "ax1.pie(levels, explode=explode, labels=labels, autopct='%1.1f%%',\n",
    "        shadow=False, startangle=0)\n",
    "ax1.axis('equal') \n",
    "\n",
    "plt.show()"
   ]
  },
  {
   "cell_type": "markdown",
   "id": "cc062066",
   "metadata": {},
   "source": [
    "GP School Male/Female for students who got a C average\n"
   ]
  },
  {
   "cell_type": "code",
   "execution_count": 66,
   "id": "15d905c3",
   "metadata": {},
   "outputs": [
    {
     "data": {
      "text/plain": [
       "3      F\n",
       "5      M\n",
       "9      M\n",
       "12     M\n",
       "14     M\n",
       "15     F\n",
       "20     M\n",
       "21     M\n",
       "22     M\n",
       "27     M\n",
       "37     M\n",
       "48     M\n",
       "56     F\n",
       "57     M\n",
       "59     F\n",
       "65     F\n",
       "70     M\n",
       "83     M\n",
       "109    F\n",
       "115    M\n",
       "120    F\n",
       "121    M\n",
       "139    F\n",
       "158    M\n",
       "167    F\n",
       "169    F\n",
       "171    M\n",
       "187    M\n",
       "195    F\n",
       "215    F\n",
       "226    F\n",
       "249    M\n",
       "258    M\n",
       "271    F\n",
       "273    M\n",
       "288    M\n",
       "289    M\n",
       "291    F\n",
       "299    M\n",
       "304    M\n",
       "324    F\n",
       "326    M\n",
       "329    F\n",
       "335    F\n",
       "342    M\n",
       "346    M\n",
       "348    F\n",
       "Name: sex, dtype: object"
      ]
     },
     "execution_count": 66,
     "metadata": {},
     "output_type": "execute_result"
    }
   ],
   "source": [
    "GPC= GPS.loc[(stud_df[\"avgscore\"]/20 * 100).between(70,79,inclusive=True)]\n",
    "GPC"
   ]
  },
  {
   "cell_type": "code",
   "execution_count": 67,
   "id": "8b73a108",
   "metadata": {},
   "outputs": [
    {
     "data": {
      "image/png": "[encoded data removed]",
      "text/plain": [
       "<Figure size 432x288 with 1 Axes>"
      ]
     },
     "metadata": {},
     "output_type": "display_data"
    }
   ],
   "source": [
    "labels = 'M', 'F'\n",
    "levels = [GPC.loc[GPC==\"M\"].size, GPC.loc[GPC==\"F\"].size]\n",
    "explode = (0, 0) \n",
    "\n",
    "fig1, ax1 = plt.subplots()\n",
    "ax1.pie(levels, explode=explode, labels=labels, autopct='%1.1f%%',\n",
    "        shadow=False, startangle=0)\n",
    "ax1.axis('equal') \n",
    "\n",
    "plt.show()"
   ]
  },
  {
   "cell_type": "markdown",
   "id": "cd884002",
   "metadata": {},
   "source": [
    "MS School Male/Female for students who got a C average\n"
   ]
  },
  {
   "cell_type": "code",
   "execution_count": 68,
   "id": "d753c450",
   "metadata": {},
   "outputs": [
    {
     "data": {
      "text/plain": [
       "363    F\n",
       "376    F\n",
       "378    F\n",
       "380    M\n",
       "391    M\n",
       "Name: sex, dtype: object"
      ]
     },
     "execution_count": 68,
     "metadata": {},
     "output_type": "execute_result"
    }
   ],
   "source": [
    "MSC= MSS.loc[(stud_df[\"avgscore\"]/20 * 100).between(70,79,inclusive=True)]\n",
    "MSC"
   ]
  },
  {
   "cell_type": "code",
   "execution_count": 69,
   "id": "d284cae4",
   "metadata": {},
   "outputs": [
    {
     "data": {
      "image/png": "[encoded data removed]",
      "text/plain": [
       "<Figure size 432x288 with 1 Axes>"
      ]
     },
     "metadata": {},
     "output_type": "display_data"
    }
   ],
   "source": [
    "labels = 'M', 'F'\n",
    "levels = [MSC.loc[MSC==\"M\"].size, MSC.loc[MSC==\"F\"].size]\n",
    "explode = (0, 0) \n",
    "\n",
    "fig1, ax1 = plt.subplots()\n",
    "ax1.pie(levels, explode=explode, labels=labels, autopct='%1.1f%%',\n",
    "        shadow=False, startangle=0)\n",
    "ax1.axis('equal') \n",
    "\n",
    "plt.show()"
   ]
  },
  {
   "cell_type": "markdown",
   "id": "5dbff4f9",
   "metadata": {},
   "source": [
    "GP School Male/Female for students who got a D average\n"
   ]
  },
  {
   "cell_type": "code",
   "execution_count": 70,
   "id": "3c425b7b",
   "metadata": {},
   "outputs": [
    {
     "data": {
      "text/plain": [
       "16     F\n",
       "23     M\n",
       "34     M\n",
       "39     F\n",
       "41     M\n",
       "      ..\n",
       "320    F\n",
       "323    F\n",
       "331    F\n",
       "336    F\n",
       "345    F\n",
       "Name: sex, Length: 63, dtype: object"
      ]
     },
     "execution_count": 70,
     "metadata": {},
     "output_type": "execute_result"
    }
   ],
   "source": [
    "GPD= GPS.loc[(stud_df[\"avgscore\"]/20 * 100).between(60,69,inclusive=True)]\n",
    "GPD"
   ]
  },
  {
   "cell_type": "code",
   "execution_count": 71,
   "id": "146daa28",
   "metadata": {},
   "outputs": [
    {
     "data": {
      "image/png": "[encoded data removed]",
      "text/plain": [
       "<Figure size 432x288 with 1 Axes>"
      ]
     },
     "metadata": {},
     "output_type": "display_data"
    }
   ],
   "source": [
    "labels = 'M', 'F'\n",
    "levels = [GPD.loc[GPD==\"M\"].size, GPD.loc[GPD==\"F\"].size]\n",
    "explode = (0, 0) \n",
    "\n",
    "fig1, ax1 = plt.subplots()\n",
    "ax1.pie(levels, explode=explode, labels=labels, autopct='%1.1f%%',\n",
    "        shadow=False, startangle=0)\n",
    "ax1.axis('equal') \n",
    "\n",
    "plt.show()"
   ]
  },
  {
   "cell_type": "markdown",
   "id": "12ab4f15",
   "metadata": {},
   "source": [
    "MS School Male/Female for students who got a D average\n"
   ]
  },
  {
   "cell_type": "code",
   "execution_count": 72,
   "id": "fbef311f",
   "metadata": {},
   "outputs": [
    {
     "data": {
      "text/plain": [
       "349    M\n",
       "351    M\n",
       "356    F\n",
       "360    F\n",
       "361    M\n",
       "366    M\n",
       "369    F\n",
       "371    M\n",
       "Name: sex, dtype: object"
      ]
     },
     "execution_count": 72,
     "metadata": {},
     "output_type": "execute_result"
    }
   ],
   "source": [
    "MSD= MSS.loc[(stud_df[\"avgscore\"]/20 * 100).between(60,69,inclusive=True)]\n",
    "MSD"
   ]
  },
  {
   "cell_type": "code",
   "execution_count": 73,
   "id": "40814e17",
   "metadata": {},
   "outputs": [
    {
     "data": {
      "image/png": "[encoded data removed]",
      "text/plain": [
       "<Figure size 432x288 with 1 Axes>"
      ]
     },
     "metadata": {},
     "output_type": "display_data"
    }
   ],
   "source": [
    "labels = 'M', 'F'\n",
    "levels = [MSD.loc[MSD==\"M\"].size, MSD.loc[MSD==\"F\"].size]\n",
    "explode = (0, 0) \n",
    "\n",
    "fig1, ax1 = plt.subplots()\n",
    "ax1.pie(levels, explode=explode, labels=labels, autopct='%1.1f%%',\n",
    "        shadow=False, startangle=0)\n",
    "ax1.axis('equal') \n",
    "\n",
    "plt.show()"
   ]
  },
  {
   "cell_type": "markdown",
   "id": "ff049fdf",
   "metadata": {},
   "source": [
    "GP School Male/Female for students who got a F average\n"
   ]
  },
  {
   "cell_type": "code",
   "execution_count": 74,
   "id": "2adcc718",
   "metadata": {},
   "outputs": [
    {
     "data": {
      "text/plain": [
       "0      F\n",
       "1      F\n",
       "2      F\n",
       "4      F\n",
       "6      M\n",
       "      ..\n",
       "340    F\n",
       "341    M\n",
       "343    F\n",
       "344    F\n",
       "347    M\n",
       "Name: sex, Length: 212, dtype: object"
      ]
     },
     "execution_count": 74,
     "metadata": {},
     "output_type": "execute_result"
    }
   ],
   "source": [
    "GPF= GPS.loc[(stud_df[\"avgscore\"]/20 * 100).between(0,59,inclusive=True)]\n",
    "GPF"
   ]
  },
  {
   "cell_type": "code",
   "execution_count": 75,
   "id": "86ae9fd4",
   "metadata": {},
   "outputs": [
    {
     "data": {
      "image/png": "[encoded data removed]",
      "text/plain": [
       "<Figure size 432x288 with 1 Axes>"
      ]
     },
     "metadata": {},
     "output_type": "display_data"
    }
   ],
   "source": [
    "labels = 'M', 'F'\n",
    "levels = [GPF.loc[GPF==\"M\"].size, GPF.loc[GPF==\"F\"].size]\n",
    "explode = (0, 0) \n",
    "\n",
    "fig1, ax1 = plt.subplots()\n",
    "ax1.pie(levels, explode=explode, labels=labels, autopct='%1.1f%%',\n",
    "        shadow=False, startangle=0)\n",
    "ax1.axis('equal') \n",
    "\n",
    "plt.show()"
   ]
  },
  {
   "cell_type": "markdown",
   "id": "aae07c84",
   "metadata": {},
   "source": [
    "MS School Male/Female for students who got a F average\n"
   ]
  },
  {
   "cell_type": "code",
   "execution_count": 76,
   "id": "d33b1515",
   "metadata": {},
   "outputs": [
    {
     "data": {
      "text/plain": [
       "350    M\n",
       "352    M\n",
       "353    M\n",
       "354    M\n",
       "355    F\n",
       "357    F\n",
       "358    M\n",
       "362    F\n",
       "364    F\n",
       "365    M\n",
       "367    F\n",
       "368    F\n",
       "370    F\n",
       "372    F\n",
       "373    F\n",
       "375    F\n",
       "377    F\n",
       "379    F\n",
       "381    M\n",
       "382    M\n",
       "383    M\n",
       "384    M\n",
       "385    F\n",
       "386    F\n",
       "387    F\n",
       "388    F\n",
       "389    F\n",
       "390    M\n",
       "392    M\n",
       "393    M\n",
       "394    M\n",
       "Name: sex, dtype: object"
      ]
     },
     "execution_count": 76,
     "metadata": {},
     "output_type": "execute_result"
    }
   ],
   "source": [
    "MSF= MSS.loc[(stud_df[\"avgscore\"]/20 * 100).between(0,59,inclusive=True)]\n",
    "MSF"
   ]
  },
  {
   "cell_type": "code",
   "execution_count": 77,
   "id": "b3b42dd9",
   "metadata": {},
   "outputs": [
    {
     "data": {
      "image/png": "[encoded data removed]",
      "text/plain": [
       "<Figure size 432x288 with 1 Axes>"
      ]
     },
     "metadata": {},
     "output_type": "display_data"
    }
   ],
   "source": [
    "labels = 'M', 'F'\n",
    "levels = [MSF.loc[MSF==\"M\"].size, MSF.loc[MSF==\"F\"].size]\n",
    "explode = (0, 0) \n",
    "\n",
    "fig1, ax1 = plt.subplots()\n",
    "ax1.pie(levels, explode=explode, labels=labels, autopct='%1.1f%%',\n",
    "        shadow=False, startangle=0)\n",
    "ax1.axis('equal') \n",
    "\n",
    "plt.show()"
   ]
  },
  {
   "cell_type": "code",
   "execution_count": 78,
   "id": "a6af4997",
   "metadata": {},
   "outputs": [
    {
     "data": {
      "text/plain": [
       "[10, 19, 52, 71, 243]"
      ]
     },
     "execution_count": 78,
     "metadata": {},
     "output_type": "execute_result"
    }
   ],
   "source": [
    "scores = [A.size,B.size,C.size,D.size,F.size]\n",
    "scores"
   ]
  },
  {
   "cell_type": "code",
   "execution_count": 79,
   "id": "75069f35",
   "metadata": {},
   "outputs": [],
   "source": [
    "grades = {\n",
    "    90: \"A\",\n",
    "    80: \"B\",\n",
    "    70: \"C\",\n",
    "    60: \"D\",\n",
    "    0: \"F\",\n",
    "}\n",
    "\n",
    "def grade_mapping(value):\n",
    "    for key, letter in grades.items():\n",
    "        if value >= key:\n",
    "            return letter"
   ]
  },
  {
   "cell_type": "code",
   "execution_count": 80,
   "id": "0badce02",
   "metadata": {},
   "outputs": [],
   "source": [
    "letter_grades = (stud_df[\"avgscore\"]/20 * 100).map(grade_mapping)\n",
    "stud_df[\"avggrade\"] = pd.Categorical(\n",
    "    letter_grades, categories=grades.values(), ordered=True\n",
    ")"
   ]
  },
  {
   "cell_type": "code",
   "execution_count": 81,
   "id": "1af2cfa5",
   "metadata": {},
   "outputs": [
    {
     "data": {
      "text/plain": [
       "6      F\n",
       "11     F\n",
       "13     F\n",
       "26     F\n",
       "28     F\n",
       "      ..\n",
       "368    F\n",
       "372    F\n",
       "379    F\n",
       "382    F\n",
       "393    F\n",
       "Name: avggrade, Length: 79, dtype: category\n",
       "Categories (5, object): ['A' < 'B' < 'C' < 'D' < 'F']"
      ]
     },
     "execution_count": 81,
     "metadata": {},
     "output_type": "execute_result"
    }
   ],
   "source": [
    "stud_df[\"avggrade\"].loc[(stud_df[\"avgscore\"]/20 * 100).between(50,59,inclusive=True)]\n"
   ]
  },
  {
   "cell_type": "code",
   "execution_count": 82,
   "id": "bb412fc2",
   "metadata": {},
   "outputs": [
    {
     "data": {
      "text/html": [
       "<div>\n",
       "<style scoped>\n",
       "    .dataframe tbody tr th:only-of-type {\n",
       "        vertical-align: middle;\n",
       "    }\n",
       "\n",
       "    .dataframe tbody tr th {\n",
       "        vertical-align: top;\n",
       "    }\n",
       "\n",
       "    .dataframe thead th {\n",
       "        text-align: right;\n",
       "    }\n",
       "</style>\n",
       "<table border=\"1\" class=\"dataframe\">\n",
       "  <thead>\n",
       "    <tr style=\"text-align: right;\">\n",
       "      <th></th>\n",
       "      <th>school</th>\n",
       "      <th>sex</th>\n",
       "      <th>age</th>\n",
       "      <th>address</th>\n",
       "      <th>famsize</th>\n",
       "      <th>Pstatus</th>\n",
       "      <th>Medu</th>\n",
       "      <th>Fedu</th>\n",
       "      <th>Mjob</th>\n",
       "      <th>Fjob</th>\n",
       "      <th>...</th>\n",
       "      <th>Dalc</th>\n",
       "      <th>Walc</th>\n",
       "      <th>health</th>\n",
       "      <th>absences</th>\n",
       "      <th>G1</th>\n",
       "      <th>G2</th>\n",
       "      <th>G3</th>\n",
       "      <th>avgscore</th>\n",
       "      <th>y_binary</th>\n",
       "      <th>avggrade</th>\n",
       "    </tr>\n",
       "  </thead>\n",
       "  <tbody>\n",
       "    <tr>\n",
       "      <th>0</th>\n",
       "      <td>GP</td>\n",
       "      <td>F</td>\n",
       "      <td>18</td>\n",
       "      <td>U</td>\n",
       "      <td>GT3</td>\n",
       "      <td>A</td>\n",
       "      <td>4</td>\n",
       "      <td>4</td>\n",
       "      <td>at_home</td>\n",
       "      <td>teacher</td>\n",
       "      <td>...</td>\n",
       "      <td>1</td>\n",
       "      <td>1</td>\n",
       "      <td>3</td>\n",
       "      <td>6</td>\n",
       "      <td>5</td>\n",
       "      <td>6</td>\n",
       "      <td>6</td>\n",
       "      <td>5.67</td>\n",
       "      <td>0</td>\n",
       "      <td>F</td>\n",
       "    </tr>\n",
       "    <tr>\n",
       "      <th>1</th>\n",
       "      <td>GP</td>\n",
       "      <td>F</td>\n",
       "      <td>17</td>\n",
       "      <td>U</td>\n",
       "      <td>GT3</td>\n",
       "      <td>T</td>\n",
       "      <td>1</td>\n",
       "      <td>1</td>\n",
       "      <td>at_home</td>\n",
       "      <td>other</td>\n",
       "      <td>...</td>\n",
       "      <td>1</td>\n",
       "      <td>1</td>\n",
       "      <td>3</td>\n",
       "      <td>4</td>\n",
       "      <td>5</td>\n",
       "      <td>5</td>\n",
       "      <td>6</td>\n",
       "      <td>5.33</td>\n",
       "      <td>0</td>\n",
       "      <td>F</td>\n",
       "    </tr>\n",
       "    <tr>\n",
       "      <th>2</th>\n",
       "      <td>GP</td>\n",
       "      <td>F</td>\n",
       "      <td>15</td>\n",
       "      <td>U</td>\n",
       "      <td>LE3</td>\n",
       "      <td>T</td>\n",
       "      <td>1</td>\n",
       "      <td>1</td>\n",
       "      <td>at_home</td>\n",
       "      <td>other</td>\n",
       "      <td>...</td>\n",
       "      <td>2</td>\n",
       "      <td>3</td>\n",
       "      <td>3</td>\n",
       "      <td>10</td>\n",
       "      <td>7</td>\n",
       "      <td>8</td>\n",
       "      <td>10</td>\n",
       "      <td>8.33</td>\n",
       "      <td>0</td>\n",
       "      <td>F</td>\n",
       "    </tr>\n",
       "    <tr>\n",
       "      <th>3</th>\n",
       "      <td>GP</td>\n",
       "      <td>F</td>\n",
       "      <td>15</td>\n",
       "      <td>U</td>\n",
       "      <td>GT3</td>\n",
       "      <td>T</td>\n",
       "      <td>4</td>\n",
       "      <td>2</td>\n",
       "      <td>health</td>\n",
       "      <td>services</td>\n",
       "      <td>...</td>\n",
       "      <td>1</td>\n",
       "      <td>1</td>\n",
       "      <td>5</td>\n",
       "      <td>2</td>\n",
       "      <td>15</td>\n",
       "      <td>14</td>\n",
       "      <td>15</td>\n",
       "      <td>14.67</td>\n",
       "      <td>1</td>\n",
       "      <td>C</td>\n",
       "    </tr>\n",
       "    <tr>\n",
       "      <th>4</th>\n",
       "      <td>GP</td>\n",
       "      <td>F</td>\n",
       "      <td>16</td>\n",
       "      <td>U</td>\n",
       "      <td>GT3</td>\n",
       "      <td>T</td>\n",
       "      <td>3</td>\n",
       "      <td>3</td>\n",
       "      <td>other</td>\n",
       "      <td>other</td>\n",
       "      <td>...</td>\n",
       "      <td>1</td>\n",
       "      <td>2</td>\n",
       "      <td>5</td>\n",
       "      <td>4</td>\n",
       "      <td>6</td>\n",
       "      <td>10</td>\n",
       "      <td>10</td>\n",
       "      <td>8.67</td>\n",
       "      <td>0</td>\n",
       "      <td>F</td>\n",
       "    </tr>\n",
       "    <tr>\n",
       "      <th>...</th>\n",
       "      <td>...</td>\n",
       "      <td>...</td>\n",
       "      <td>...</td>\n",
       "      <td>...</td>\n",
       "      <td>...</td>\n",
       "      <td>...</td>\n",
       "      <td>...</td>\n",
       "      <td>...</td>\n",
       "      <td>...</td>\n",
       "      <td>...</td>\n",
       "      <td>...</td>\n",
       "      <td>...</td>\n",
       "      <td>...</td>\n",
       "      <td>...</td>\n",
       "      <td>...</td>\n",
       "      <td>...</td>\n",
       "      <td>...</td>\n",
       "      <td>...</td>\n",
       "      <td>...</td>\n",
       "      <td>...</td>\n",
       "      <td>...</td>\n",
       "    </tr>\n",
       "    <tr>\n",
       "      <th>390</th>\n",
       "      <td>MS</td>\n",
       "      <td>M</td>\n",
       "      <td>20</td>\n",
       "      <td>U</td>\n",
       "      <td>LE3</td>\n",
       "      <td>A</td>\n",
       "      <td>2</td>\n",
       "      <td>2</td>\n",
       "      <td>services</td>\n",
       "      <td>services</td>\n",
       "      <td>...</td>\n",
       "      <td>4</td>\n",
       "      <td>5</td>\n",
       "      <td>4</td>\n",
       "      <td>11</td>\n",
       "      <td>9</td>\n",
       "      <td>9</td>\n",
       "      <td>9</td>\n",
       "      <td>9.00</td>\n",
       "      <td>0</td>\n",
       "      <td>F</td>\n",
       "    </tr>\n",
       "    <tr>\n",
       "      <th>391</th>\n",
       "      <td>MS</td>\n",
       "      <td>M</td>\n",
       "      <td>17</td>\n",
       "      <td>U</td>\n",
       "      <td>LE3</td>\n",
       "      <td>T</td>\n",
       "      <td>3</td>\n",
       "      <td>1</td>\n",
       "      <td>services</td>\n",
       "      <td>services</td>\n",
       "      <td>...</td>\n",
       "      <td>3</td>\n",
       "      <td>4</td>\n",
       "      <td>2</td>\n",
       "      <td>3</td>\n",
       "      <td>14</td>\n",
       "      <td>16</td>\n",
       "      <td>16</td>\n",
       "      <td>15.33</td>\n",
       "      <td>1</td>\n",
       "      <td>C</td>\n",
       "    </tr>\n",
       "    <tr>\n",
       "      <th>392</th>\n",
       "      <td>MS</td>\n",
       "      <td>M</td>\n",
       "      <td>21</td>\n",
       "      <td>R</td>\n",
       "      <td>GT3</td>\n",
       "      <td>T</td>\n",
       "      <td>1</td>\n",
       "      <td>1</td>\n",
       "      <td>other</td>\n",
       "      <td>other</td>\n",
       "      <td>...</td>\n",
       "      <td>3</td>\n",
       "      <td>3</td>\n",
       "      <td>3</td>\n",
       "      <td>3</td>\n",
       "      <td>10</td>\n",
       "      <td>8</td>\n",
       "      <td>7</td>\n",
       "      <td>8.33</td>\n",
       "      <td>0</td>\n",
       "      <td>F</td>\n",
       "    </tr>\n",
       "    <tr>\n",
       "      <th>393</th>\n",
       "      <td>MS</td>\n",
       "      <td>M</td>\n",
       "      <td>18</td>\n",
       "      <td>R</td>\n",
       "      <td>LE3</td>\n",
       "      <td>T</td>\n",
       "      <td>3</td>\n",
       "      <td>2</td>\n",
       "      <td>services</td>\n",
       "      <td>other</td>\n",
       "      <td>...</td>\n",
       "      <td>3</td>\n",
       "      <td>4</td>\n",
       "      <td>5</td>\n",
       "      <td>0</td>\n",
       "      <td>11</td>\n",
       "      <td>12</td>\n",
       "      <td>10</td>\n",
       "      <td>11.00</td>\n",
       "      <td>1</td>\n",
       "      <td>F</td>\n",
       "    </tr>\n",
       "    <tr>\n",
       "      <th>394</th>\n",
       "      <td>MS</td>\n",
       "      <td>M</td>\n",
       "      <td>19</td>\n",
       "      <td>U</td>\n",
       "      <td>LE3</td>\n",
       "      <td>T</td>\n",
       "      <td>1</td>\n",
       "      <td>1</td>\n",
       "      <td>other</td>\n",
       "      <td>at_home</td>\n",
       "      <td>...</td>\n",
       "      <td>3</td>\n",
       "      <td>3</td>\n",
       "      <td>5</td>\n",
       "      <td>5</td>\n",
       "      <td>8</td>\n",
       "      <td>9</td>\n",
       "      <td>9</td>\n",
       "      <td>8.67</td>\n",
       "      <td>0</td>\n",
       "      <td>F</td>\n",
       "    </tr>\n",
       "  </tbody>\n",
       "</table>\n",
       "<p>395 rows × 36 columns</p>\n",
       "</div>"
      ],
      "text/plain": [
       "    school sex  age address famsize Pstatus  Medu  Fedu      Mjob      Fjob  \\\n",
       "0       GP   F   18       U     GT3       A     4     4   at_home   teacher   \n",
       "1       GP   F   17       U     GT3       T     1     1   at_home     other   \n",
       "2       GP   F   15       U     LE3       T     1     1   at_home     other   \n",
       "3       GP   F   15       U     GT3       T     4     2    health  services   \n",
       "4       GP   F   16       U     GT3       T     3     3     other     other   \n",
       "..     ...  ..  ...     ...     ...     ...   ...   ...       ...       ...   \n",
       "390     MS   M   20       U     LE3       A     2     2  services  services   \n",
       "391     MS   M   17       U     LE3       T     3     1  services  services   \n",
       "392     MS   M   21       R     GT3       T     1     1     other     other   \n",
       "393     MS   M   18       R     LE3       T     3     2  services     other   \n",
       "394     MS   M   19       U     LE3       T     1     1     other   at_home   \n",
       "\n",
       "     ... Dalc Walc  health  absences  G1  G2  G3 avgscore y_binary avggrade  \n",
       "0    ...    1    1       3         6   5   6   6     5.67        0        F  \n",
       "1    ...    1    1       3         4   5   5   6     5.33        0        F  \n",
       "2    ...    2    3       3        10   7   8  10     8.33        0        F  \n",
       "3    ...    1    1       5         2  15  14  15    14.67        1        C  \n",
       "4    ...    1    2       5         4   6  10  10     8.67        0        F  \n",
       "..   ...  ...  ...     ...       ...  ..  ..  ..      ...      ...      ...  \n",
       "390  ...    4    5       4        11   9   9   9     9.00        0        F  \n",
       "391  ...    3    4       2         3  14  16  16    15.33        1        C  \n",
       "392  ...    3    3       3         3  10   8   7     8.33        0        F  \n",
       "393  ...    3    4       5         0  11  12  10    11.00        1        F  \n",
       "394  ...    3    3       5         5   8   9   9     8.67        0        F  \n",
       "\n",
       "[395 rows x 36 columns]"
      ]
     },
     "execution_count": 82,
     "metadata": {},
     "output_type": "execute_result"
    }
   ],
   "source": [
    "stud_df"
   ]
  },
  {
   "cell_type": "code",
   "execution_count": 98,
   "id": "25272ed0",
   "metadata": {},
   "outputs": [
    {
     "data": {
      "text/plain": [
       "<AxesSubplot:xlabel='avggrade', ylabel='school'>"
      ]
     },
     "execution_count": 98,
     "metadata": {},
     "output_type": "execute_result"
    },
    {
     "data": {
      "image/png": "[encoded data removed]",
      "text/plain": [
       "<Figure size 432x288 with 1 Axes>"
      ]
     },
     "metadata": {},
     "output_type": "display_data"
    }
   ],
   "source": [
    "sns.lineplot(data=stud_df, x=\"avggrade\", y=\"school\")\n"
   ]
  },
  {
   "cell_type": "code",
   "execution_count": 99,
   "id": "cecd3858",
   "metadata": {},
   "outputs": [
    {
     "data": {
      "text/plain": [
       "<AxesSubplot:xlabel='avggrade', ylabel='sex'>"
      ]
     },
     "execution_count": 99,
     "metadata": {},
     "output_type": "execute_result"
    },
    {
     "data": {
      "image/png": "[encoded data removed]",
      "text/plain": [
       "<Figure size 432x288 with 1 Axes>"
      ]
     },
     "metadata": {},
     "output_type": "display_data"
    }
   ],
   "source": [
    "sns.lineplot(data=stud_df, x=\"avggrade\", y=\"sex\")"
   ]
  },
  {
   "cell_type": "code",
   "execution_count": 101,
   "id": "4308ab50",
   "metadata": {},
   "outputs": [
    {
     "data": {
      "text/plain": [
       "<AxesSubplot:title={'center':'School vs student grades'}, xlabel='avggrade', ylabel='school'>"
      ]
     },
     "execution_count": 101,
     "metadata": {},
     "output_type": "execute_result"
    },
    {
     "data": {
      "image/png": "[encoded data removed]",
      "text/plain": [
       "<Figure size 432x288 with 2 Axes>"
      ]
     },
     "metadata": {},
     "output_type": "display_data"
    }
   ],
   "source": [
    "# Two subplots\n",
    "f, (ax1, ax2) = plt.subplots(1, 2, sharey=True)\n",
    "ax1.set_title('Sex vs student grades')\n",
    "ax2.set_title('School vs student grades')\n",
    "\n",
    "sns.lineplot(data=stud_df, x=\"avggrade\", y=\"sex\", ax=ax1)\n",
    "sns.lineplot(data=stud_df, x=\"avggrade\", y=\"school\", ax=ax2)"
   ]
  },
  {
   "cell_type": "markdown",
   "id": "0386bcf5",
   "metadata": {},
   "source": []
  }
 ],
 "metadata": {
  "kernelspec": {
   "display_name": "Python 3",
   "language": "python",
   "name": "python3"
  },
  "language_info": {
   "codemirror_mode": {
    "name": "ipython",
    "version": 3
   },
   "file_extension": ".py",
   "mimetype": "text/x-python",
   "name": "python",
   "nbconvert_exporter": "python",
   "pygments_lexer": "ipython3",
   "version": "3.8.10"
  }
 },
 "nbformat": 4,
 "nbformat_minor": 5
}

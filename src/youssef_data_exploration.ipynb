{
 "cells": [
  {
   "cell_type": "markdown",
   "id": "5920b35c",
   "metadata": {},
   "source": [
    "## Data exploration - Question 1\n",
    "\n",
    "#### This notebook will find out if the parent's education has an impact on the student’s performance"
   ]
  },
  {
   "cell_type": "code",
   "execution_count": 135,
   "id": "bcdce30e",
   "metadata": {},
   "outputs": [
    {
     "name": "stdout",
     "output_type": "stream",
     "text": [
      "C:\\Users\\Youssef1stPC\\Downloads\n"
     ]
    }
   ],
   "source": [
    "cd C:\\Users\\Youssef1stPC\\Downloads"
   ]
  },
  {
   "cell_type": "code",
   "execution_count": 136,
   "id": "0f1d8bb0",
   "metadata": {
    "scrolled": true
   },
   "outputs": [
    {
     "name": "stdout",
     "output_type": "stream",
     "text": [
      "    school sex  age address famsize Pstatus  Medu  Fedu      Mjob      Fjob  \\\n",
      "0       GP   F   18       U     GT3       A     4     4   at_home   teacher   \n",
      "1       GP   F   17       U     GT3       T     1     1   at_home     other   \n",
      "2       GP   F   15       U     LE3       T     1     1   at_home     other   \n",
      "3       GP   F   15       U     GT3       T     4     2    health  services   \n",
      "4       GP   F   16       U     GT3       T     3     3     other     other   \n",
      "..     ...  ..  ...     ...     ...     ...   ...   ...       ...       ...   \n",
      "390     MS   M   20       U     LE3       A     2     2  services  services   \n",
      "391     MS   M   17       U     LE3       T     3     1  services  services   \n",
      "392     MS   M   21       R     GT3       T     1     1     other     other   \n",
      "393     MS   M   18       R     LE3       T     3     2  services     other   \n",
      "394     MS   M   19       U     LE3       T     1     1     other   at_home   \n",
      "\n",
      "     ... goout Dalc  Walc  health  absences  G1  G2  G3 avgscore y_binary  \n",
      "0    ...     4    1     1       3         6   5   6   6     5.67        0  \n",
      "1    ...     3    1     1       3         4   5   5   6     5.33        0  \n",
      "2    ...     2    2     3       3        10   7   8  10     8.33        0  \n",
      "3    ...     2    1     1       5         2  15  14  15    14.67        1  \n",
      "4    ...     2    1     2       5         4   6  10  10     8.67        0  \n",
      "..   ...   ...  ...   ...     ...       ...  ..  ..  ..      ...      ...  \n",
      "390  ...     4    4     5       4        11   9   9   9     9.00        0  \n",
      "391  ...     5    3     4       2         3  14  16  16    15.33        1  \n",
      "392  ...     3    3     3       3         3  10   8   7     8.33        0  \n",
      "393  ...     1    3     4       5         0  11  12  10    11.00        1  \n",
      "394  ...     3    3     3       5         5   8   9   9     8.67        0  \n",
      "\n",
      "[395 rows x 35 columns]\n"
     ]
    }
   ],
   "source": [
    "import pandas as pd\n",
    "stud_df = pd.read_csv('student-mat-v1.csv')\n",
    "print(stud_df)"
   ]
  },
  {
   "cell_type": "code",
   "execution_count": 137,
   "id": "b73ba01f",
   "metadata": {},
   "outputs": [
    {
     "data": {
      "text/html": [
       "<div>\n",
       "<style scoped>\n",
       "    .dataframe tbody tr th:only-of-type {\n",
       "        vertical-align: middle;\n",
       "    }\n",
       "\n",
       "    .dataframe tbody tr th {\n",
       "        vertical-align: top;\n",
       "    }\n",
       "\n",
       "    .dataframe thead th {\n",
       "        text-align: right;\n",
       "    }\n",
       "</style>\n",
       "<table border=\"1\" class=\"dataframe\">\n",
       "  <thead>\n",
       "    <tr style=\"text-align: right;\">\n",
       "      <th></th>\n",
       "      <th>school</th>\n",
       "      <th>sex</th>\n",
       "      <th>age</th>\n",
       "      <th>address</th>\n",
       "      <th>famsize</th>\n",
       "      <th>Pstatus</th>\n",
       "      <th>Medu</th>\n",
       "      <th>Fedu</th>\n",
       "      <th>Mjob</th>\n",
       "      <th>Fjob</th>\n",
       "      <th>...</th>\n",
       "      <th>goout</th>\n",
       "      <th>Dalc</th>\n",
       "      <th>Walc</th>\n",
       "      <th>health</th>\n",
       "      <th>absences</th>\n",
       "      <th>G1</th>\n",
       "      <th>G2</th>\n",
       "      <th>G3</th>\n",
       "      <th>avgscore</th>\n",
       "      <th>y_binary</th>\n",
       "    </tr>\n",
       "  </thead>\n",
       "  <tbody>\n",
       "    <tr>\n",
       "      <th>0</th>\n",
       "      <td>GP</td>\n",
       "      <td>F</td>\n",
       "      <td>18</td>\n",
       "      <td>U</td>\n",
       "      <td>GT3</td>\n",
       "      <td>A</td>\n",
       "      <td>4</td>\n",
       "      <td>4</td>\n",
       "      <td>at_home</td>\n",
       "      <td>teacher</td>\n",
       "      <td>...</td>\n",
       "      <td>4</td>\n",
       "      <td>1</td>\n",
       "      <td>1</td>\n",
       "      <td>3</td>\n",
       "      <td>6</td>\n",
       "      <td>5</td>\n",
       "      <td>6</td>\n",
       "      <td>6</td>\n",
       "      <td>5.67</td>\n",
       "      <td>0</td>\n",
       "    </tr>\n",
       "    <tr>\n",
       "      <th>1</th>\n",
       "      <td>GP</td>\n",
       "      <td>F</td>\n",
       "      <td>17</td>\n",
       "      <td>U</td>\n",
       "      <td>GT3</td>\n",
       "      <td>T</td>\n",
       "      <td>1</td>\n",
       "      <td>1</td>\n",
       "      <td>at_home</td>\n",
       "      <td>other</td>\n",
       "      <td>...</td>\n",
       "      <td>3</td>\n",
       "      <td>1</td>\n",
       "      <td>1</td>\n",
       "      <td>3</td>\n",
       "      <td>4</td>\n",
       "      <td>5</td>\n",
       "      <td>5</td>\n",
       "      <td>6</td>\n",
       "      <td>5.33</td>\n",
       "      <td>0</td>\n",
       "    </tr>\n",
       "    <tr>\n",
       "      <th>2</th>\n",
       "      <td>GP</td>\n",
       "      <td>F</td>\n",
       "      <td>15</td>\n",
       "      <td>U</td>\n",
       "      <td>LE3</td>\n",
       "      <td>T</td>\n",
       "      <td>1</td>\n",
       "      <td>1</td>\n",
       "      <td>at_home</td>\n",
       "      <td>other</td>\n",
       "      <td>...</td>\n",
       "      <td>2</td>\n",
       "      <td>2</td>\n",
       "      <td>3</td>\n",
       "      <td>3</td>\n",
       "      <td>10</td>\n",
       "      <td>7</td>\n",
       "      <td>8</td>\n",
       "      <td>10</td>\n",
       "      <td>8.33</td>\n",
       "      <td>0</td>\n",
       "    </tr>\n",
       "    <tr>\n",
       "      <th>3</th>\n",
       "      <td>GP</td>\n",
       "      <td>F</td>\n",
       "      <td>15</td>\n",
       "      <td>U</td>\n",
       "      <td>GT3</td>\n",
       "      <td>T</td>\n",
       "      <td>4</td>\n",
       "      <td>2</td>\n",
       "      <td>health</td>\n",
       "      <td>services</td>\n",
       "      <td>...</td>\n",
       "      <td>2</td>\n",
       "      <td>1</td>\n",
       "      <td>1</td>\n",
       "      <td>5</td>\n",
       "      <td>2</td>\n",
       "      <td>15</td>\n",
       "      <td>14</td>\n",
       "      <td>15</td>\n",
       "      <td>14.67</td>\n",
       "      <td>1</td>\n",
       "    </tr>\n",
       "    <tr>\n",
       "      <th>4</th>\n",
       "      <td>GP</td>\n",
       "      <td>F</td>\n",
       "      <td>16</td>\n",
       "      <td>U</td>\n",
       "      <td>GT3</td>\n",
       "      <td>T</td>\n",
       "      <td>3</td>\n",
       "      <td>3</td>\n",
       "      <td>other</td>\n",
       "      <td>other</td>\n",
       "      <td>...</td>\n",
       "      <td>2</td>\n",
       "      <td>1</td>\n",
       "      <td>2</td>\n",
       "      <td>5</td>\n",
       "      <td>4</td>\n",
       "      <td>6</td>\n",
       "      <td>10</td>\n",
       "      <td>10</td>\n",
       "      <td>8.67</td>\n",
       "      <td>0</td>\n",
       "    </tr>\n",
       "  </tbody>\n",
       "</table>\n",
       "<p>5 rows × 35 columns</p>\n",
       "</div>"
      ],
      "text/plain": [
       "  school sex  age address famsize Pstatus  Medu  Fedu     Mjob      Fjob  ...  \\\n",
       "0     GP   F   18       U     GT3       A     4     4  at_home   teacher  ...   \n",
       "1     GP   F   17       U     GT3       T     1     1  at_home     other  ...   \n",
       "2     GP   F   15       U     LE3       T     1     1  at_home     other  ...   \n",
       "3     GP   F   15       U     GT3       T     4     2   health  services  ...   \n",
       "4     GP   F   16       U     GT3       T     3     3    other     other  ...   \n",
       "\n",
       "  goout Dalc  Walc  health  absences  G1  G2  G3 avgscore y_binary  \n",
       "0     4    1     1       3         6   5   6   6     5.67        0  \n",
       "1     3    1     1       3         4   5   5   6     5.33        0  \n",
       "2     2    2     3       3        10   7   8  10     8.33        0  \n",
       "3     2    1     1       5         2  15  14  15    14.67        1  \n",
       "4     2    1     2       5         4   6  10  10     8.67        0  \n",
       "\n",
       "[5 rows x 35 columns]"
      ]
     },
     "execution_count": 137,
     "metadata": {},
     "output_type": "execute_result"
    }
   ],
   "source": [
    "stud_df.head()"
   ]
  },
  {
   "cell_type": "code",
   "execution_count": 138,
   "id": "5f76750e",
   "metadata": {},
   "outputs": [
    {
     "name": "stdout",
     "output_type": "stream",
     "text": [
      "0      4\n",
      "1      1\n",
      "2      1\n",
      "3      4\n",
      "4      3\n",
      "      ..\n",
      "390    2\n",
      "391    3\n",
      "392    1\n",
      "393    3\n",
      "394    1\n",
      "Name: Medu, Length: 395, dtype: int64 0      4\n",
      "1      1\n",
      "2      1\n",
      "3      2\n",
      "4      3\n",
      "      ..\n",
      "390    2\n",
      "391    1\n",
      "392    1\n",
      "393    2\n",
      "394    1\n",
      "Name: Fedu, Length: 395, dtype: int64\n"
     ]
    }
   ],
   "source": [
    "print(stud_df[\"Medu\"],stud_df[\"Fedu\"])"
   ]
  },
  {
   "cell_type": "code",
   "execution_count": 139,
   "id": "9501959a",
   "metadata": {},
   "outputs": [
    {
     "data": {
      "text/plain": [
       "0       5.67\n",
       "1       5.33\n",
       "2       8.33\n",
       "3      14.67\n",
       "4       8.67\n",
       "       ...  \n",
       "390     9.00\n",
       "391    15.33\n",
       "392     8.33\n",
       "393    11.00\n",
       "394     8.67\n",
       "Name: avgscore, Length: 395, dtype: float64"
      ]
     },
     "execution_count": 139,
     "metadata": {},
     "output_type": "execute_result"
    }
   ],
   "source": [
    "stud_df[\"avgscore\"]"
   ]
  },
  {
   "cell_type": "markdown",
   "id": "df6d3fda",
   "metadata": {},
   "source": [
    "### Visualization"
   ]
  },
  {
   "cell_type": "markdown",
   "id": "2b19e491",
   "metadata": {},
   "source": [
    "Now that we have our data, we will begin to visualize this.\n",
    "\n",
    "First, we will look at the distrubution of the education levels in Fathers"
   ]
  },
  {
   "cell_type": "code",
   "execution_count": 140,
   "id": "9d9dab7a",
   "metadata": {},
   "outputs": [],
   "source": [
    "import seaborn as sns\n",
    "import matplotlib.pyplot as plt\n",
    "sns.set_theme(style=\"ticks\", color_codes=True)"
   ]
  },
  {
   "cell_type": "code",
   "execution_count": 141,
   "id": "227b7736",
   "metadata": {},
   "outputs": [
    {
     "data": {
      "text/plain": [
       "76     0\n",
       "171    0\n",
       "Name: Fedu, dtype: int64"
      ]
     },
     "execution_count": 141,
     "metadata": {},
     "output_type": "execute_result"
    }
   ],
   "source": [
    "df_0 = stud_df[\"Fedu\"].loc[stud_df[\"Fedu\"] == 0]\n",
    "df_0"
   ]
  },
  {
   "cell_type": "code",
   "execution_count": 142,
   "id": "ba43fa66",
   "metadata": {
    "scrolled": true
   },
   "outputs": [
    {
     "data": {
      "text/plain": [
       "1      1\n",
       "2      1\n",
       "11     1\n",
       "55     1\n",
       "61     1\n",
       "      ..\n",
       "388    1\n",
       "389    1\n",
       "391    1\n",
       "392    1\n",
       "394    1\n",
       "Name: Fedu, Length: 82, dtype: int64"
      ]
     },
     "execution_count": 142,
     "metadata": {},
     "output_type": "execute_result"
    }
   ],
   "source": [
    "df_1 = stud_df[\"Fedu\"].loc[stud_df[\"Fedu\"] == 1]\n",
    "df_1"
   ]
  },
  {
   "cell_type": "code",
   "execution_count": 143,
   "id": "a2da9f04",
   "metadata": {},
   "outputs": [
    {
     "data": {
      "text/plain": [
       "3      2\n",
       "6      2\n",
       "8      2\n",
       "14     2\n",
       "18     2\n",
       "      ..\n",
       "376    2\n",
       "384    2\n",
       "385    2\n",
       "390    2\n",
       "393    2\n",
       "Name: Fedu, Length: 115, dtype: int64"
      ]
     },
     "execution_count": 143,
     "metadata": {},
     "output_type": "execute_result"
    }
   ],
   "source": [
    "df_2 = stud_df[\"Fedu\"].loc[stud_df[\"Fedu\"] == 2]\n",
    "df_2"
   ]
  },
  {
   "cell_type": "code",
   "execution_count": 144,
   "id": "4e0faf1b",
   "metadata": {},
   "outputs": [
    {
     "data": {
      "text/plain": [
       "4      3\n",
       "5      3\n",
       "13     3\n",
       "17     3\n",
       "19     3\n",
       "      ..\n",
       "365    3\n",
       "368    3\n",
       "378    3\n",
       "382    3\n",
       "387    3\n",
       "Name: Fedu, Length: 100, dtype: int64"
      ]
     },
     "execution_count": 144,
     "metadata": {},
     "output_type": "execute_result"
    }
   ],
   "source": [
    "df_3 = stud_df[\"Fedu\"].loc[stud_df[\"Fedu\"] == 3]\n",
    "df_3"
   ]
  },
  {
   "cell_type": "code",
   "execution_count": 145,
   "id": "25076690",
   "metadata": {},
   "outputs": [
    {
     "data": {
      "text/plain": [
       "0      4\n",
       "7      4\n",
       "9      4\n",
       "10     4\n",
       "12     4\n",
       "      ..\n",
       "369    4\n",
       "374    4\n",
       "377    4\n",
       "380    4\n",
       "386    4\n",
       "Name: Fedu, Length: 96, dtype: int64"
      ]
     },
     "execution_count": 145,
     "metadata": {},
     "output_type": "execute_result"
    }
   ],
   "source": [
    "df_4 = stud_df[\"Fedu\"].loc[stud_df[\"Fedu\"] == 4]\n",
    "df_4"
   ]
  },
  {
   "cell_type": "markdown",
   "id": "74d44562",
   "metadata": {},
   "source": [
    "## Education distrubution in fathers"
   ]
  },
  {
   "cell_type": "code",
   "execution_count": 146,
   "id": "7d8509eb",
   "metadata": {},
   "outputs": [
    {
     "data": {
      "image/png": "[encoded data removed]",
      "text/plain": [
       "<Figure size 432x288 with 1 Axes>"
      ]
     },
     "metadata": {},
     "output_type": "display_data"
    }
   ],
   "source": [
    "labels = 'No Education', 'Elementary School', 'Middle School', 'High School', 'College and Higher'\n",
    "levels = [df_0.size, df_1.size, df_2.size, df_3.size, df_4.size]\n",
    "explode = (0.1, 0, 0, 0, 0)\n",
    "\n",
    "fig1, ax1 = plt.subplots()\n",
    "ax1.pie(levels, explode=explode, labels=labels, autopct='%1.1f%%',\n",
    "        shadow=False, startangle=0)\n",
    "ax1.axis('equal')\n",
    "\n",
    "plt.show()"
   ]
  },
  {
   "cell_type": "markdown",
   "id": "3102ca31",
   "metadata": {},
   "source": [
    "#### Now, in the same way, we will look at education distrubution in the mothers"
   ]
  },
  {
   "cell_type": "code",
   "execution_count": 147,
   "id": "35ab8cc2",
   "metadata": {},
   "outputs": [
    {
     "data": {
      "text/plain": [
       "127    0\n",
       "249    0\n",
       "324    0\n",
       "Name: Medu, dtype: int64"
      ]
     },
     "execution_count": 147,
     "metadata": {},
     "output_type": "execute_result"
    }
   ],
   "source": [
    "df_00 = stud_df[\"Medu\"].loc[stud_df[\"Medu\"] == 0]\n",
    "df_00"
   ]
  },
  {
   "cell_type": "code",
   "execution_count": 148,
   "id": "9519c71e",
   "metadata": {},
   "outputs": [
    {
     "data": {
      "text/plain": [
       "1      1\n",
       "2      1\n",
       "58     1\n",
       "61     1\n",
       "62     1\n",
       "72     1\n",
       "84     1\n",
       "95     1\n",
       "118    1\n",
       "120    1\n",
       "131    1\n",
       "138    1\n",
       "143    1\n",
       "145    1\n",
       "147    1\n",
       "150    1\n",
       "156    1\n",
       "157    1\n",
       "162    1\n",
       "163    1\n",
       "164    1\n",
       "171    1\n",
       "173    1\n",
       "186    1\n",
       "189    1\n",
       "191    1\n",
       "192    1\n",
       "202    1\n",
       "208    1\n",
       "221    1\n",
       "234    1\n",
       "255    1\n",
       "272    1\n",
       "273    1\n",
       "282    1\n",
       "283    1\n",
       "285    1\n",
       "287    1\n",
       "309    1\n",
       "310    1\n",
       "312    1\n",
       "314    1\n",
       "350    1\n",
       "352    1\n",
       "353    1\n",
       "358    1\n",
       "359    1\n",
       "360    1\n",
       "361    1\n",
       "364    1\n",
       "365    1\n",
       "367    1\n",
       "371    1\n",
       "373    1\n",
       "375    1\n",
       "383    1\n",
       "389    1\n",
       "392    1\n",
       "394    1\n",
       "Name: Medu, dtype: int64"
      ]
     },
     "execution_count": 148,
     "metadata": {},
     "output_type": "execute_result"
    }
   ],
   "source": [
    "df_01 = stud_df[\"Medu\"].loc[stud_df[\"Medu\"] == 1]\n",
    "df_01"
   ]
  },
  {
   "cell_type": "code",
   "execution_count": 149,
   "id": "a19c67f8",
   "metadata": {},
   "outputs": [
    {
     "data": {
      "text/plain": [
       "6      2\n",
       "11     2\n",
       "14     2\n",
       "23     2\n",
       "24     2\n",
       "      ..\n",
       "381    2\n",
       "382    2\n",
       "385    2\n",
       "387    2\n",
       "390    2\n",
       "Name: Medu, Length: 103, dtype: int64"
      ]
     },
     "execution_count": 149,
     "metadata": {},
     "output_type": "execute_result"
    }
   ],
   "source": [
    "df_02 = stud_df[\"Medu\"].loc[stud_df[\"Medu\"] == 2]\n",
    "df_02"
   ]
  },
  {
   "cell_type": "code",
   "execution_count": 150,
   "id": "f09e6c77",
   "metadata": {},
   "outputs": [
    {
     "data": {
      "text/plain": [
       "4      3\n",
       "8      3\n",
       "9      3\n",
       "17     3\n",
       "18     3\n",
       "      ..\n",
       "378    3\n",
       "379    3\n",
       "388    3\n",
       "391    3\n",
       "393    3\n",
       "Name: Medu, Length: 99, dtype: int64"
      ]
     },
     "execution_count": 150,
     "metadata": {},
     "output_type": "execute_result"
    }
   ],
   "source": [
    "df_03 = stud_df[\"Medu\"].loc[stud_df[\"Medu\"] == 3]\n",
    "df_03"
   ]
  },
  {
   "cell_type": "code",
   "execution_count": 151,
   "id": "91ef44db",
   "metadata": {},
   "outputs": [
    {
     "data": {
      "text/plain": [
       "0      4\n",
       "3      4\n",
       "5      4\n",
       "7      4\n",
       "10     4\n",
       "      ..\n",
       "376    4\n",
       "377    4\n",
       "380    4\n",
       "384    4\n",
       "386    4\n",
       "Name: Medu, Length: 131, dtype: int64"
      ]
     },
     "execution_count": 151,
     "metadata": {},
     "output_type": "execute_result"
    }
   ],
   "source": [
    "df_04 = stud_df[\"Medu\"].loc[stud_df[\"Medu\"] == 4]\n",
    "df_04"
   ]
  },
  {
   "cell_type": "markdown",
   "id": "82041db7",
   "metadata": {},
   "source": [
    "## Education distrubution in mothers"
   ]
  },
  {
   "cell_type": "code",
   "execution_count": 152,
   "id": "0bd8e1b3",
   "metadata": {},
   "outputs": [
    {
     "data": {
      "image/png": "[encoded data removed]",
      "text/plain": [
       "<Figure size 432x288 with 1 Axes>"
      ]
     },
     "metadata": {},
     "output_type": "display_data"
    }
   ],
   "source": [
    "labels = 'No Education', 'Elementary School', 'Middle School', 'High School', 'College and Higher'\n",
    "levels = [df_00.size, df_01.size, df_02.size, df_03.size, df_04.size]\n",
    "explode = (0.1, 0, 0, 0, 0)\n",
    "\n",
    "fig1, ax1 = plt.subplots()\n",
    "ax1.pie(levels, explode=explode, labels=labels, autopct='%1.1f%%',\n",
    "        shadow=False, startangle=0)\n",
    "ax1.axis('equal')\n",
    "\n",
    "plt.show()"
   ]
  },
  {
   "cell_type": "markdown",
   "id": "f42c5754",
   "metadata": {},
   "source": [
    "Here we discovered that the mothers at this school are more educated than the fathers"
   ]
  },
  {
   "cell_type": "markdown",
   "id": "e13789a6",
   "metadata": {},
   "source": [
    "### Now we will visualize the average scores of the students\n",
    "#### The scores will be converted to the 5 letter grading scale as shown below:\n",
    "    A: >= 90\n",
    "    B: >= 80\n",
    "    C: >= 70\n",
    "    D: >= 60\n",
    "    F: <= 59"
   ]
  },
  {
   "cell_type": "code",
   "execution_count": 153,
   "id": "a4461a96",
   "metadata": {},
   "outputs": [
    {
     "data": {
      "text/plain": [
       "42     18.33\n",
       "47     19.33\n",
       "110    18.67\n",
       "113    18.67\n",
       "129    18.00\n",
       "198    18.00\n",
       "245    18.00\n",
       "286    18.33\n",
       "293    18.00\n",
       "374    18.67\n",
       "Name: avgscore, dtype: float64"
      ]
     },
     "execution_count": 153,
     "metadata": {},
     "output_type": "execute_result"
    }
   ],
   "source": [
    "A = stud_df[\"avgscore\"].loc[stud_df[\"avgscore\"]/20 * 100 >= 90]\n",
    "A"
   ]
  },
  {
   "cell_type": "code",
   "execution_count": 154,
   "id": "e0fa2d0b",
   "metadata": {},
   "outputs": [
    {
     "data": {
      "text/plain": [
       "8      17.67\n",
       "31     16.67\n",
       "32     16.33\n",
       "36     16.33\n",
       "69     16.00\n",
       "91     17.00\n",
       "101    16.67\n",
       "104    17.33\n",
       "107    17.33\n",
       "182    16.67\n",
       "196    16.00\n",
       "200    16.00\n",
       "222    16.33\n",
       "260    17.67\n",
       "265    17.00\n",
       "303    17.33\n",
       "306    17.67\n",
       "338    16.00\n",
       "359    16.67\n",
       "Name: avgscore, dtype: float64"
      ]
     },
     "execution_count": 154,
     "metadata": {},
     "output_type": "execute_result"
    }
   ],
   "source": [
    "B = stud_df[\"avgscore\"].loc[(stud_df[\"avgscore\"]/20 * 100).between(80,89,inclusive=True)]\n",
    "B"
   ]
  },
  {
   "cell_type": "code",
   "execution_count": 155,
   "id": "0fffe1f7",
   "metadata": {},
   "outputs": [
    {
     "data": {
      "text/plain": [
       "3      14.67\n",
       "5      15.00\n",
       "9      14.67\n",
       "12     14.00\n",
       "14     15.33\n",
       "15     14.00\n",
       "20     14.00\n",
       "21     14.00\n",
       "22     15.33\n",
       "27     15.33\n",
       "37     15.33\n",
       "48     14.67\n",
       "56     14.67\n",
       "57     14.67\n",
       "59     15.67\n",
       "65     15.33\n",
       "70     14.33\n",
       "83     15.00\n",
       "109    15.00\n",
       "115    15.33\n",
       "120    15.33\n",
       "121    15.00\n",
       "139    15.67\n",
       "158    15.67\n",
       "167    15.00\n",
       "169    14.00\n",
       "171    14.67\n",
       "187    15.00\n",
       "195    14.67\n",
       "215    14.67\n",
       "226    15.33\n",
       "249    14.33\n",
       "258    14.33\n",
       "271    14.33\n",
       "273    14.33\n",
       "288    14.33\n",
       "289    14.33\n",
       "291    15.00\n",
       "299    15.67\n",
       "304    14.00\n",
       "324    15.33\n",
       "326    15.00\n",
       "329    14.00\n",
       "335    15.33\n",
       "342    15.33\n",
       "346    15.67\n",
       "348    14.33\n",
       "363    15.33\n",
       "376    14.67\n",
       "378    15.00\n",
       "380    14.33\n",
       "391    15.33\n",
       "Name: avgscore, dtype: float64"
      ]
     },
     "execution_count": 155,
     "metadata": {},
     "output_type": "execute_result"
    }
   ],
   "source": [
    "C = stud_df[\"avgscore\"].loc[(stud_df[\"avgscore\"]/20 * 100).between(70,79,inclusive=True)]\n",
    "C"
   ]
  },
  {
   "cell_type": "code",
   "execution_count": 156,
   "id": "9397bd78",
   "metadata": {},
   "outputs": [
    {
     "data": {
      "text/plain": [
       "16     13.67\n",
       "23     12.67\n",
       "34     13.67\n",
       "39     13.33\n",
       "41     12.00\n",
       "       ...  \n",
       "360    13.00\n",
       "361    12.33\n",
       "366    13.00\n",
       "369    12.33\n",
       "371    12.67\n",
       "Name: avgscore, Length: 71, dtype: float64"
      ]
     },
     "execution_count": 156,
     "metadata": {},
     "output_type": "execute_result"
    }
   ],
   "source": [
    "D = stud_df[\"avgscore\"].loc[(stud_df[\"avgscore\"]/20 * 100).between(60,69,inclusive=True)]\n",
    "D"
   ]
  },
  {
   "cell_type": "code",
   "execution_count": 157,
   "id": "8f24f0ca",
   "metadata": {},
   "outputs": [
    {
     "data": {
      "text/plain": [
       "0       5.67\n",
       "1       5.33\n",
       "2       8.33\n",
       "4       8.67\n",
       "6      11.67\n",
       "       ...  \n",
       "389     3.67\n",
       "390     9.00\n",
       "392     8.33\n",
       "393    11.00\n",
       "394     8.67\n",
       "Name: avgscore, Length: 243, dtype: float64"
      ]
     },
     "execution_count": 157,
     "metadata": {},
     "output_type": "execute_result"
    }
   ],
   "source": [
    "F = stud_df[\"avgscore\"].loc[(stud_df[\"avgscore\"]/20 * 100).between(0,59,inclusive=True)]\n",
    "F"
   ]
  },
  {
   "cell_type": "markdown",
   "id": "01254139",
   "metadata": {},
   "source": [
    "## Grade distrubution in students"
   ]
  },
  {
   "cell_type": "code",
   "execution_count": 158,
   "id": "dba96642",
   "metadata": {},
   "outputs": [
    {
     "data": {
      "image/png": "[encoded data removed]",
      "text/plain": [
       "<Figure size 432x288 with 1 Axes>"
      ]
     },
     "metadata": {},
     "output_type": "display_data"
    }
   ],
   "source": [
    "labels = 'A', 'B', 'C', 'D', 'F'\n",
    "levels = [A.size, B.size, C.size, D.size, F.size]\n",
    "explode = (0.1, 0, 0, 0, 0) \n",
    "\n",
    "fig1, ax1 = plt.subplots()\n",
    "ax1.pie(levels, explode=explode, labels=labels, autopct='%1.1f%%',\n",
    "        shadow=False, startangle=0)\n",
    "ax1.axis('equal') \n",
    "\n",
    "plt.show()"
   ]
  },
  {
   "cell_type": "markdown",
   "id": "99021cfc",
   "metadata": {},
   "source": [
    "## Answering our question - Does the parent's education affect the student's performance?"
   ]
  },
  {
   "cell_type": "markdown",
   "id": "d0bcead4",
   "metadata": {},
   "source": [
    "This looks like a tough school! Let's now finally see if the parent's education influences these grades.\n",
    "We start by examining the educational level of the mothers and fathers for students who have an A average grade and similary for the rest of the grades after."
   ]
  },
  {
   "cell_type": "markdown",
   "id": "7aee452e",
   "metadata": {},
   "source": [
    "### Father's educational level for students who got an A average"
   ]
  },
  {
   "cell_type": "code",
   "execution_count": 159,
   "id": "bf984322",
   "metadata": {},
   "outputs": [
    {
     "data": {
      "text/plain": [
       "42     4\n",
       "47     3\n",
       "110    4\n",
       "113    2\n",
       "129    4\n",
       "198    4\n",
       "245    1\n",
       "286    2\n",
       "293    1\n",
       "374    4\n",
       "Name: Fedu, dtype: int64"
      ]
     },
     "execution_count": 159,
     "metadata": {},
     "output_type": "execute_result"
    }
   ],
   "source": [
    "fA= stud_df[\"Fedu\"].loc[stud_df[\"avgscore\"]/20 * 100 >= 90]\n",
    "fA"
   ]
  },
  {
   "cell_type": "code",
   "execution_count": 160,
   "id": "a05d837e",
   "metadata": {},
   "outputs": [
    {
     "data": {
      "image/png": "[encoded data removed]",
      "text/plain": [
       "<Figure size 432x288 with 1 Axes>"
      ]
     },
     "metadata": {},
     "output_type": "display_data"
    }
   ],
   "source": [
    "labels = 'No Education', 'Elementary School', 'Middle School', 'High School', 'College and Higher'\n",
    "levels = [fA.loc[fA==0].size, fA.loc[fA==1].size, fA.loc[fA==2].size, fA.loc[fA==3].size, fA.loc[fA==4].size]\n",
    "explode = (0, 0, 0, 0, 0) \n",
    "\n",
    "fig1, ax1 = plt.subplots()\n",
    "ax1.pie(levels, explode=explode, labels=labels, autopct='%1.1f%%',\n",
    "        shadow=False, startangle=0)\n",
    "ax1.axis('equal') \n",
    "\n",
    "plt.show()"
   ]
  },
  {
   "cell_type": "markdown",
   "id": "ec385de0",
   "metadata": {},
   "source": [
    "### Mother's educational level for students who got an A average"
   ]
  },
  {
   "cell_type": "code",
   "execution_count": 161,
   "id": "fba21ec8",
   "metadata": {},
   "outputs": [
    {
     "data": {
      "text/plain": [
       "42     4\n",
       "47     4\n",
       "110    4\n",
       "113    4\n",
       "129    4\n",
       "198    4\n",
       "245    2\n",
       "286    2\n",
       "293    3\n",
       "374    4\n",
       "Name: Medu, dtype: int64"
      ]
     },
     "execution_count": 161,
     "metadata": {},
     "output_type": "execute_result"
    }
   ],
   "source": [
    "mA= stud_df[\"Medu\"].loc[stud_df[\"avgscore\"]/20 * 100 >= 90]\n",
    "mA"
   ]
  },
  {
   "cell_type": "code",
   "execution_count": 162,
   "id": "f33b3665",
   "metadata": {},
   "outputs": [
    {
     "data": {
      "image/png": "[encoded data removed]",
      "text/plain": [
       "<Figure size 432x288 with 1 Axes>"
      ]
     },
     "metadata": {},
     "output_type": "display_data"
    }
   ],
   "source": [
    "labels = '', 'Elementary School', 'Middle School', 'High School', 'College and Higher'\n",
    "levels = [mA.loc[mA==0].size, mA.loc[mA==1].size, mA.loc[mA==2].size, mA.loc[mA==3].size, mA.loc[mA==4].size]\n",
    "explode = (0, 0, 0, 0, 0) \n",
    "\n",
    "fig1, ax1 = plt.subplots()\n",
    "ax1.pie(levels, explode=explode, labels=labels, autopct='%1.1f%%',\n",
    "        shadow=False, startangle=0)\n",
    "ax1.axis('equal') \n",
    "\n",
    "plt.show()"
   ]
  },
  {
   "cell_type": "markdown",
   "id": "9cc1021f",
   "metadata": {},
   "source": [
    "### Father's educational level for students who got a B average"
   ]
  },
  {
   "cell_type": "code",
   "execution_count": 163,
   "id": "59651226",
   "metadata": {},
   "outputs": [
    {
     "data": {
      "text/plain": [
       "8      2\n",
       "31     4\n",
       "32     3\n",
       "36     3\n",
       "69     1\n",
       "91     3\n",
       "101    4\n",
       "104    4\n",
       "107    3\n",
       "182    4\n",
       "196    4\n",
       "200    3\n",
       "222    3\n",
       "260    3\n",
       "265    4\n",
       "303    2\n",
       "306    2\n",
       "338    3\n",
       "359    1\n",
       "Name: Fedu, dtype: int64"
      ]
     },
     "execution_count": 163,
     "metadata": {},
     "output_type": "execute_result"
    }
   ],
   "source": [
    "fB= stud_df[\"Fedu\"].loc[(stud_df[\"avgscore\"]/20 * 100).between(80,89,inclusive=True)]\n",
    "fB"
   ]
  },
  {
   "cell_type": "code",
   "execution_count": 164,
   "id": "f28dd59a",
   "metadata": {},
   "outputs": [
    {
     "data": {
      "image/png": "[encoded data removed]",
      "text/plain": [
       "<Figure size 432x288 with 1 Axes>"
      ]
     },
     "metadata": {},
     "output_type": "display_data"
    }
   ],
   "source": [
    "labels = 'No Education', 'Elementary School', 'Middle School', 'High School', 'College and Higher'\n",
    "levels = [fB.loc[fB==0].size, fB.loc[fB==1].size, fB.loc[fB==2].size, fB.loc[fB==3].size, fB.loc[fB==4].size]\n",
    "explode = (0, 0, 0, 0, 0) \n",
    "\n",
    "fig1, ax1 = plt.subplots()\n",
    "ax1.pie(levels, explode=explode, labels=labels, autopct='%1.1f%%',\n",
    "        shadow=False, startangle=0)\n",
    "ax1.axis('equal') \n",
    "\n",
    "plt.show()"
   ]
  },
  {
   "cell_type": "markdown",
   "id": "66ffd065",
   "metadata": {},
   "source": [
    "### Mother's educational level for students who got a B average"
   ]
  },
  {
   "cell_type": "code",
   "execution_count": 165,
   "id": "6316af8f",
   "metadata": {
    "scrolled": true
   },
   "outputs": [
    {
     "data": {
      "text/plain": [
       "8      3\n",
       "31     4\n",
       "32     4\n",
       "36     4\n",
       "69     3\n",
       "91     4\n",
       "101    4\n",
       "104    3\n",
       "107    3\n",
       "182    2\n",
       "196    4\n",
       "200    4\n",
       "222    2\n",
       "260    4\n",
       "265    3\n",
       "303    3\n",
       "306    3\n",
       "338    3\n",
       "359    1\n",
       "Name: Medu, dtype: int64"
      ]
     },
     "execution_count": 165,
     "metadata": {},
     "output_type": "execute_result"
    }
   ],
   "source": [
    "mB= stud_df[\"Medu\"].loc[(stud_df[\"avgscore\"]/20 * 100).between(80,89,inclusive=True)]\n",
    "mB"
   ]
  },
  {
   "cell_type": "code",
   "execution_count": 166,
   "id": "8035b0ae",
   "metadata": {
    "scrolled": false
   },
   "outputs": [
    {
     "data": {
      "image/png": "[encoded data removed]",
      "text/plain": [
       "<Figure size 432x288 with 1 Axes>"
      ]
     },
     "metadata": {},
     "output_type": "display_data"
    }
   ],
   "source": [
    "labels = 'No Education', 'Elementary School', 'Middle School', 'High School', 'College and Higher'\n",
    "levels = [mB.loc[mB==0].size, mB.loc[mB==1].size, mB.loc[mB==2].size, mB.loc[mB==3].size, mB.loc[mB==4].size]\n",
    "explode = (0, 0, 0, 0, 0) \n",
    "\n",
    "fig1, ax1 = plt.subplots()\n",
    "ax1.pie(levels, explode=explode, labels=labels, autopct='%1.1f%%',\n",
    "        shadow=False, startangle=0)\n",
    "ax1.axis('equal') \n",
    "\n",
    "plt.show()"
   ]
  },
  {
   "cell_type": "markdown",
   "id": "1609fe64",
   "metadata": {},
   "source": [
    "### Father's educational level for students who got a C average"
   ]
  },
  {
   "cell_type": "code",
   "execution_count": 167,
   "id": "2bc97b40",
   "metadata": {},
   "outputs": [
    {
     "data": {
      "text/plain": [
       "3      2\n",
       "5      3\n",
       "9      4\n",
       "12     4\n",
       "14     2\n",
       "15     4\n",
       "20     3\n",
       "21     4\n",
       "22     2\n",
       "27     2\n",
       "37     4\n",
       "48     2\n",
       "56     3\n",
       "57     4\n",
       "59     2\n",
       "65     3\n",
       "70     1\n",
       "83     2\n",
       "109    4\n",
       "115    4\n",
       "120    2\n",
       "121    2\n",
       "139    4\n",
       "158    2\n",
       "167    2\n",
       "169    4\n",
       "171    0\n",
       "187    1\n",
       "195    4\n",
       "215    2\n",
       "226    2\n",
       "249    2\n",
       "258    1\n",
       "271    3\n",
       "273    2\n",
       "288    1\n",
       "289    4\n",
       "291    3\n",
       "299    4\n",
       "304    3\n",
       "324    2\n",
       "326    3\n",
       "329    4\n",
       "335    4\n",
       "342    4\n",
       "346    3\n",
       "348    3\n",
       "363    4\n",
       "376    2\n",
       "378    3\n",
       "380    4\n",
       "391    1\n",
       "Name: Fedu, dtype: int64"
      ]
     },
     "execution_count": 167,
     "metadata": {},
     "output_type": "execute_result"
    }
   ],
   "source": [
    "fC= stud_df[\"Fedu\"].loc[(stud_df[\"avgscore\"]/20 * 100).between(70,79,inclusive=True)]\n",
    "fC"
   ]
  },
  {
   "cell_type": "code",
   "execution_count": 168,
   "id": "08b69cbb",
   "metadata": {},
   "outputs": [
    {
     "data": {
      "image/png": "[encoded data removed]",
      "text/plain": [
       "<Figure size 432x288 with 1 Axes>"
      ]
     },
     "metadata": {},
     "output_type": "display_data"
    }
   ],
   "source": [
    "labels = 'No Education', 'Elementary School', 'Middle School', 'High School', 'College and Higher'\n",
    "levels = [fC.loc[fC==0].size, fC.loc[fC==1].size, fC.loc[fC==2].size, fC.loc[fC==3].size, fC.loc[fC==4].size]\n",
    "explode = (0, 0, 0, 0, 0) \n",
    "\n",
    "fig1, ax1 = plt.subplots()\n",
    "ax1.pie(levels, explode=explode, labels=labels, autopct='%1.1f%%',\n",
    "        shadow=False, startangle=0)\n",
    "ax1.axis('equal') \n",
    "\n",
    "plt.show()"
   ]
  },
  {
   "cell_type": "markdown",
   "id": "3a5ad3c5",
   "metadata": {},
   "source": [
    "### Mother's educational level for students who got a C average"
   ]
  },
  {
   "cell_type": "code",
   "execution_count": 169,
   "id": "d90885aa",
   "metadata": {},
   "outputs": [
    {
     "data": {
      "text/plain": [
       "3      4\n",
       "5      4\n",
       "9      3\n",
       "12     4\n",
       "14     2\n",
       "15     4\n",
       "20     4\n",
       "21     4\n",
       "22     4\n",
       "27     4\n",
       "37     4\n",
       "48     4\n",
       "56     4\n",
       "57     4\n",
       "59     4\n",
       "65     4\n",
       "70     3\n",
       "83     2\n",
       "109    4\n",
       "115    4\n",
       "120    1\n",
       "121    2\n",
       "139    4\n",
       "158    2\n",
       "167    4\n",
       "169    4\n",
       "171    1\n",
       "187    2\n",
       "195    2\n",
       "215    3\n",
       "226    3\n",
       "249    0\n",
       "258    2\n",
       "271    2\n",
       "273    1\n",
       "288    2\n",
       "289    4\n",
       "291    4\n",
       "299    4\n",
       "304    3\n",
       "324    0\n",
       "326    3\n",
       "329    4\n",
       "335    3\n",
       "342    3\n",
       "346    4\n",
       "348    4\n",
       "363    4\n",
       "376    4\n",
       "378    3\n",
       "380    4\n",
       "391    3\n",
       "Name: Medu, dtype: int64"
      ]
     },
     "execution_count": 169,
     "metadata": {},
     "output_type": "execute_result"
    }
   ],
   "source": [
    "mC= stud_df[\"Medu\"].loc[(stud_df[\"avgscore\"]/20 * 100).between(70,79,inclusive=True)]\n",
    "mC"
   ]
  },
  {
   "cell_type": "code",
   "execution_count": 170,
   "id": "672e868e",
   "metadata": {},
   "outputs": [
    {
     "data": {
      "image/png": "[encoded data removed]",
      "text/plain": [
       "<Figure size 432x288 with 1 Axes>"
      ]
     },
     "metadata": {},
     "output_type": "display_data"
    }
   ],
   "source": [
    "labels = 'No Education', 'Elementary School', 'Middle School', 'High School', 'College and Higher'\n",
    "levels = [mC.loc[mC==0].size, mC.loc[mC==1].size, mC.loc[mC==2].size, mC.loc[mC==3].size, mC.loc[mC==4].size]\n",
    "explode = (0, 0, 0, 0, 0) \n",
    "\n",
    "fig1, ax1 = plt.subplots()\n",
    "ax1.pie(levels, explode=explode, labels=labels, autopct='%1.1f%%',\n",
    "        shadow=False, startangle=0)\n",
    "ax1.axis('equal') \n",
    "\n",
    "plt.show()"
   ]
  },
  {
   "cell_type": "markdown",
   "id": "dc02595a",
   "metadata": {},
   "source": [
    "### Father's educational level for students who got a D average"
   ]
  },
  {
   "cell_type": "code",
   "execution_count": 171,
   "id": "82de054a",
   "metadata": {},
   "outputs": [
    {
     "data": {
      "text/plain": [
       "16     4\n",
       "23     2\n",
       "34     2\n",
       "39     2\n",
       "41     4\n",
       "      ..\n",
       "360    4\n",
       "361    1\n",
       "366    4\n",
       "369    4\n",
       "371    2\n",
       "Name: Fedu, Length: 71, dtype: int64"
      ]
     },
     "execution_count": 171,
     "metadata": {},
     "output_type": "execute_result"
    }
   ],
   "source": [
    "fD= stud_df[\"Fedu\"].loc[(stud_df[\"avgscore\"]/20 * 100).between(60,69,inclusive=True)]\n",
    "fD"
   ]
  },
  {
   "cell_type": "code",
   "execution_count": 172,
   "id": "3ea8b750",
   "metadata": {},
   "outputs": [
    {
     "data": {
      "image/png": "[encoded data removed]",
      "text/plain": [
       "<Figure size 432x288 with 1 Axes>"
      ]
     },
     "metadata": {},
     "output_type": "display_data"
    }
   ],
   "source": [
    "labels = 'No Education', 'Elementary School', 'Middle School', 'High School', 'College and Higher'\n",
    "levels = [fD.loc[fD==0].size, fD.loc[fD==1].size, fD.loc[fD==2].size, fD.loc[fD==3].size, fD.loc[fD==4].size]\n",
    "explode = (0, 0, 0, 0, 0) \n",
    "\n",
    "fig1, ax1 = plt.subplots()\n",
    "ax1.pie(levels, explode=explode, labels=labels, autopct='%1.1f%%',\n",
    "        shadow=False, startangle=0)\n",
    "ax1.axis('equal') \n",
    "\n",
    "plt.show()"
   ]
  },
  {
   "cell_type": "markdown",
   "id": "bb4daf08",
   "metadata": {},
   "source": [
    "### Mother's educational level for students who got a D average"
   ]
  },
  {
   "cell_type": "code",
   "execution_count": 173,
   "id": "87419725",
   "metadata": {},
   "outputs": [
    {
     "data": {
      "text/plain": [
       "16     4\n",
       "23     2\n",
       "34     3\n",
       "39     2\n",
       "41     4\n",
       "      ..\n",
       "360    1\n",
       "361    1\n",
       "366    4\n",
       "369    4\n",
       "371    1\n",
       "Name: Medu, Length: 71, dtype: int64"
      ]
     },
     "execution_count": 173,
     "metadata": {},
     "output_type": "execute_result"
    }
   ],
   "source": [
    "mD= stud_df[\"Medu\"].loc[(stud_df[\"avgscore\"]/20 * 100).between(60,69,inclusive=True)]\n",
    "mD"
   ]
  },
  {
   "cell_type": "code",
   "execution_count": 174,
   "id": "baed75d6",
   "metadata": {},
   "outputs": [
    {
     "data": {
      "image/png": "[encoded data removed]",
      "text/plain": [
       "<Figure size 432x288 with 1 Axes>"
      ]
     },
     "metadata": {},
     "output_type": "display_data"
    }
   ],
   "source": [
    "labels = 'No Education', 'Elementary School', 'Middle School', 'High School', 'College and Higher'\n",
    "levels = [mD.loc[mD==0].size, mD.loc[mD==1].size, mD.loc[mD==2].size, mD.loc[mD==3].size, mD.loc[mD==4].size]\n",
    "explode = (0, 0, 0, 0, 0) \n",
    "\n",
    "fig1, ax1 = plt.subplots()\n",
    "ax1.pie(levels, explode=explode, labels=labels, autopct='%1.1f%%',\n",
    "        shadow=False, startangle=0)\n",
    "ax1.axis('equal') \n",
    "\n",
    "plt.show()"
   ]
  },
  {
   "cell_type": "markdown",
   "id": "a0c6e4bb",
   "metadata": {},
   "source": [
    "### Father's educational level for students who got a F average"
   ]
  },
  {
   "cell_type": "code",
   "execution_count": 175,
   "id": "55fbde22",
   "metadata": {},
   "outputs": [
    {
     "data": {
      "text/plain": [
       "0      4\n",
       "1      1\n",
       "2      1\n",
       "4      3\n",
       "6      2\n",
       "      ..\n",
       "389    1\n",
       "390    2\n",
       "392    1\n",
       "393    2\n",
       "394    1\n",
       "Name: Fedu, Length: 243, dtype: int64"
      ]
     },
     "execution_count": 175,
     "metadata": {},
     "output_type": "execute_result"
    }
   ],
   "source": [
    "fF= stud_df[\"Fedu\"].loc[(stud_df[\"avgscore\"]/20 * 100).between(0,59,inclusive=True)]\n",
    "fF"
   ]
  },
  {
   "cell_type": "code",
   "execution_count": 176,
   "id": "1109e4b6",
   "metadata": {},
   "outputs": [
    {
     "data": {
      "image/png": "[encoded data removed]",
      "text/plain": [
       "<Figure size 432x288 with 1 Axes>"
      ]
     },
     "metadata": {},
     "output_type": "display_data"
    }
   ],
   "source": [
    "labels = 'No Education', 'Elementary School', 'Middle School', 'High School', 'College and Higher'\n",
    "levels = [fF.loc[fF==0].size, fF.loc[fF==1].size, fF.loc[fF==2].size, fF.loc[fF==3].size, fF.loc[fF==4].size]\n",
    "explode = (0, 0, 0, 0, 0) \n",
    "\n",
    "fig1, ax1 = plt.subplots()\n",
    "ax1.pie(levels, explode=explode, labels=labels, autopct='%1.1f%%',\n",
    "        shadow=False, startangle=0)\n",
    "ax1.axis('equal') \n",
    "\n",
    "plt.show()"
   ]
  },
  {
   "cell_type": "markdown",
   "id": "df90a0e9",
   "metadata": {},
   "source": [
    "### Mother's educational level for students who got a F average"
   ]
  },
  {
   "cell_type": "code",
   "execution_count": 214,
   "id": "95c05d82",
   "metadata": {},
   "outputs": [
    {
     "data": {
      "text/plain": [
       "0      4\n",
       "1      1\n",
       "2      1\n",
       "4      3\n",
       "6      2\n",
       "      ..\n",
       "389    1\n",
       "390    2\n",
       "392    1\n",
       "393    3\n",
       "394    1\n",
       "Name: Medu, Length: 243, dtype: int64"
      ]
     },
     "execution_count": 214,
     "metadata": {},
     "output_type": "execute_result"
    }
   ],
   "source": [
    "mF= stud_df[\"Medu\"].loc[(stud_df[\"avgscore\"]/20 * 100).between(0,59,inclusive=True)]\n",
    "mF"
   ]
  },
  {
   "cell_type": "code",
   "execution_count": 178,
   "id": "a1437ed3",
   "metadata": {},
   "outputs": [
    {
     "data": {
      "image/png": "[encoded data removed]",
      "text/plain": [
       "<Figure size 432x288 with 1 Axes>"
      ]
     },
     "metadata": {},
     "output_type": "display_data"
    }
   ],
   "source": [
    "labels = 'No Education', 'Elementary School', 'Middle School', 'High School', 'College and Higher'\n",
    "levels = [mF.loc[mF==0].size, mF.loc[mF==1].size, mF.loc[mF==2].size, mF.loc[mF==3].size, mF.loc[mF==4].size]\n",
    "explode = (0, 0, 0, 0, 0) \n",
    "\n",
    "fig1, ax1 = plt.subplots()\n",
    "ax1.pie(levels, explode=explode, labels=labels, autopct='%1.1f%%',\n",
    "        shadow=False, startangle=0)\n",
    "ax1.axis('equal') \n",
    "\n",
    "plt.show()"
   ]
  },
  {
   "cell_type": "code",
   "execution_count": 179,
   "id": "d9dff558",
   "metadata": {},
   "outputs": [
    {
     "data": {
      "text/plain": [
       "[10, 19, 52, 71, 243]"
      ]
     },
     "execution_count": 179,
     "metadata": {},
     "output_type": "execute_result"
    }
   ],
   "source": [
    "scores = [A.size,B.size,C.size,D.size,F.size]\n",
    "scores"
   ]
  },
  {
   "cell_type": "code",
   "execution_count": 255,
   "id": "e6837153",
   "metadata": {},
   "outputs": [],
   "source": [
    "grades = {\n",
    "    90: \"A\",\n",
    "    80: \"B\",\n",
    "    70: \"C\",\n",
    "    60: \"D\",\n",
    "    0: \"F\",\n",
    "}\n",
    "\n",
    "def grade_mapping(value):\n",
    "    for key, letter in grades.items():\n",
    "        if value >= key:\n",
    "            return letter"
   ]
  },
  {
   "cell_type": "code",
   "execution_count": 259,
   "id": "8a251dab",
   "metadata": {},
   "outputs": [],
   "source": [
    "letter_grades = (stud_df[\"avgscore\"]/20 * 100).map(grade_mapping)\n",
    "stud_df[\"avggrade\"] = pd.Categorical(\n",
    "    letter_grades, categories=grades.values(), ordered=True\n",
    ")"
   ]
  },
  {
   "cell_type": "code",
   "execution_count": 265,
   "id": "8738eeda",
   "metadata": {
    "scrolled": true
   },
   "outputs": [
    {
     "data": {
      "text/plain": [
       "6      F\n",
       "11     F\n",
       "13     F\n",
       "26     F\n",
       "28     F\n",
       "      ..\n",
       "368    F\n",
       "372    F\n",
       "379    F\n",
       "382    F\n",
       "393    F\n",
       "Name: avggrade, Length: 79, dtype: category\n",
       "Categories (5, object): ['A' < 'B' < 'C' < 'D' < 'F']"
      ]
     },
     "execution_count": 265,
     "metadata": {},
     "output_type": "execute_result"
    }
   ],
   "source": [
    "stud_df[\"avggrade\"].loc[(stud_df[\"avgscore\"]/20 * 100).between(50,59,inclusive=True)]"
   ]
  },
  {
   "cell_type": "code",
   "execution_count": 267,
   "id": "669a8a72",
   "metadata": {},
   "outputs": [
    {
     "data": {
      "text/html": [
       "<div>\n",
       "<style scoped>\n",
       "    .dataframe tbody tr th:only-of-type {\n",
       "        vertical-align: middle;\n",
       "    }\n",
       "\n",
       "    .dataframe tbody tr th {\n",
       "        vertical-align: top;\n",
       "    }\n",
       "\n",
       "    .dataframe thead th {\n",
       "        text-align: right;\n",
       "    }\n",
       "</style>\n",
       "<table border=\"1\" class=\"dataframe\">\n",
       "  <thead>\n",
       "    <tr style=\"text-align: right;\">\n",
       "      <th></th>\n",
       "      <th>school</th>\n",
       "      <th>sex</th>\n",
       "      <th>age</th>\n",
       "      <th>address</th>\n",
       "      <th>famsize</th>\n",
       "      <th>Pstatus</th>\n",
       "      <th>Medu</th>\n",
       "      <th>Fedu</th>\n",
       "      <th>Mjob</th>\n",
       "      <th>Fjob</th>\n",
       "      <th>...</th>\n",
       "      <th>Dalc</th>\n",
       "      <th>Walc</th>\n",
       "      <th>health</th>\n",
       "      <th>absences</th>\n",
       "      <th>G1</th>\n",
       "      <th>G2</th>\n",
       "      <th>G3</th>\n",
       "      <th>avgscore</th>\n",
       "      <th>y_binary</th>\n",
       "      <th>avggrade</th>\n",
       "    </tr>\n",
       "  </thead>\n",
       "  <tbody>\n",
       "    <tr>\n",
       "      <th>0</th>\n",
       "      <td>GP</td>\n",
       "      <td>F</td>\n",
       "      <td>18</td>\n",
       "      <td>U</td>\n",
       "      <td>GT3</td>\n",
       "      <td>A</td>\n",
       "      <td>4</td>\n",
       "      <td>4</td>\n",
       "      <td>at_home</td>\n",
       "      <td>teacher</td>\n",
       "      <td>...</td>\n",
       "      <td>1</td>\n",
       "      <td>1</td>\n",
       "      <td>3</td>\n",
       "      <td>6</td>\n",
       "      <td>5</td>\n",
       "      <td>6</td>\n",
       "      <td>6</td>\n",
       "      <td>5.67</td>\n",
       "      <td>0</td>\n",
       "      <td>F</td>\n",
       "    </tr>\n",
       "    <tr>\n",
       "      <th>1</th>\n",
       "      <td>GP</td>\n",
       "      <td>F</td>\n",
       "      <td>17</td>\n",
       "      <td>U</td>\n",
       "      <td>GT3</td>\n",
       "      <td>T</td>\n",
       "      <td>1</td>\n",
       "      <td>1</td>\n",
       "      <td>at_home</td>\n",
       "      <td>other</td>\n",
       "      <td>...</td>\n",
       "      <td>1</td>\n",
       "      <td>1</td>\n",
       "      <td>3</td>\n",
       "      <td>4</td>\n",
       "      <td>5</td>\n",
       "      <td>5</td>\n",
       "      <td>6</td>\n",
       "      <td>5.33</td>\n",
       "      <td>0</td>\n",
       "      <td>F</td>\n",
       "    </tr>\n",
       "    <tr>\n",
       "      <th>2</th>\n",
       "      <td>GP</td>\n",
       "      <td>F</td>\n",
       "      <td>15</td>\n",
       "      <td>U</td>\n",
       "      <td>LE3</td>\n",
       "      <td>T</td>\n",
       "      <td>1</td>\n",
       "      <td>1</td>\n",
       "      <td>at_home</td>\n",
       "      <td>other</td>\n",
       "      <td>...</td>\n",
       "      <td>2</td>\n",
       "      <td>3</td>\n",
       "      <td>3</td>\n",
       "      <td>10</td>\n",
       "      <td>7</td>\n",
       "      <td>8</td>\n",
       "      <td>10</td>\n",
       "      <td>8.33</td>\n",
       "      <td>0</td>\n",
       "      <td>F</td>\n",
       "    </tr>\n",
       "    <tr>\n",
       "      <th>3</th>\n",
       "      <td>GP</td>\n",
       "      <td>F</td>\n",
       "      <td>15</td>\n",
       "      <td>U</td>\n",
       "      <td>GT3</td>\n",
       "      <td>T</td>\n",
       "      <td>4</td>\n",
       "      <td>2</td>\n",
       "      <td>health</td>\n",
       "      <td>services</td>\n",
       "      <td>...</td>\n",
       "      <td>1</td>\n",
       "      <td>1</td>\n",
       "      <td>5</td>\n",
       "      <td>2</td>\n",
       "      <td>15</td>\n",
       "      <td>14</td>\n",
       "      <td>15</td>\n",
       "      <td>14.67</td>\n",
       "      <td>1</td>\n",
       "      <td>C</td>\n",
       "    </tr>\n",
       "    <tr>\n",
       "      <th>4</th>\n",
       "      <td>GP</td>\n",
       "      <td>F</td>\n",
       "      <td>16</td>\n",
       "      <td>U</td>\n",
       "      <td>GT3</td>\n",
       "      <td>T</td>\n",
       "      <td>3</td>\n",
       "      <td>3</td>\n",
       "      <td>other</td>\n",
       "      <td>other</td>\n",
       "      <td>...</td>\n",
       "      <td>1</td>\n",
       "      <td>2</td>\n",
       "      <td>5</td>\n",
       "      <td>4</td>\n",
       "      <td>6</td>\n",
       "      <td>10</td>\n",
       "      <td>10</td>\n",
       "      <td>8.67</td>\n",
       "      <td>0</td>\n",
       "      <td>F</td>\n",
       "    </tr>\n",
       "    <tr>\n",
       "      <th>...</th>\n",
       "      <td>...</td>\n",
       "      <td>...</td>\n",
       "      <td>...</td>\n",
       "      <td>...</td>\n",
       "      <td>...</td>\n",
       "      <td>...</td>\n",
       "      <td>...</td>\n",
       "      <td>...</td>\n",
       "      <td>...</td>\n",
       "      <td>...</td>\n",
       "      <td>...</td>\n",
       "      <td>...</td>\n",
       "      <td>...</td>\n",
       "      <td>...</td>\n",
       "      <td>...</td>\n",
       "      <td>...</td>\n",
       "      <td>...</td>\n",
       "      <td>...</td>\n",
       "      <td>...</td>\n",
       "      <td>...</td>\n",
       "      <td>...</td>\n",
       "    </tr>\n",
       "    <tr>\n",
       "      <th>390</th>\n",
       "      <td>MS</td>\n",
       "      <td>M</td>\n",
       "      <td>20</td>\n",
       "      <td>U</td>\n",
       "      <td>LE3</td>\n",
       "      <td>A</td>\n",
       "      <td>2</td>\n",
       "      <td>2</td>\n",
       "      <td>services</td>\n",
       "      <td>services</td>\n",
       "      <td>...</td>\n",
       "      <td>4</td>\n",
       "      <td>5</td>\n",
       "      <td>4</td>\n",
       "      <td>11</td>\n",
       "      <td>9</td>\n",
       "      <td>9</td>\n",
       "      <td>9</td>\n",
       "      <td>9.00</td>\n",
       "      <td>0</td>\n",
       "      <td>F</td>\n",
       "    </tr>\n",
       "    <tr>\n",
       "      <th>391</th>\n",
       "      <td>MS</td>\n",
       "      <td>M</td>\n",
       "      <td>17</td>\n",
       "      <td>U</td>\n",
       "      <td>LE3</td>\n",
       "      <td>T</td>\n",
       "      <td>3</td>\n",
       "      <td>1</td>\n",
       "      <td>services</td>\n",
       "      <td>services</td>\n",
       "      <td>...</td>\n",
       "      <td>3</td>\n",
       "      <td>4</td>\n",
       "      <td>2</td>\n",
       "      <td>3</td>\n",
       "      <td>14</td>\n",
       "      <td>16</td>\n",
       "      <td>16</td>\n",
       "      <td>15.33</td>\n",
       "      <td>1</td>\n",
       "      <td>C</td>\n",
       "    </tr>\n",
       "    <tr>\n",
       "      <th>392</th>\n",
       "      <td>MS</td>\n",
       "      <td>M</td>\n",
       "      <td>21</td>\n",
       "      <td>R</td>\n",
       "      <td>GT3</td>\n",
       "      <td>T</td>\n",
       "      <td>1</td>\n",
       "      <td>1</td>\n",
       "      <td>other</td>\n",
       "      <td>other</td>\n",
       "      <td>...</td>\n",
       "      <td>3</td>\n",
       "      <td>3</td>\n",
       "      <td>3</td>\n",
       "      <td>3</td>\n",
       "      <td>10</td>\n",
       "      <td>8</td>\n",
       "      <td>7</td>\n",
       "      <td>8.33</td>\n",
       "      <td>0</td>\n",
       "      <td>F</td>\n",
       "    </tr>\n",
       "    <tr>\n",
       "      <th>393</th>\n",
       "      <td>MS</td>\n",
       "      <td>M</td>\n",
       "      <td>18</td>\n",
       "      <td>R</td>\n",
       "      <td>LE3</td>\n",
       "      <td>T</td>\n",
       "      <td>3</td>\n",
       "      <td>2</td>\n",
       "      <td>services</td>\n",
       "      <td>other</td>\n",
       "      <td>...</td>\n",
       "      <td>3</td>\n",
       "      <td>4</td>\n",
       "      <td>5</td>\n",
       "      <td>0</td>\n",
       "      <td>11</td>\n",
       "      <td>12</td>\n",
       "      <td>10</td>\n",
       "      <td>11.00</td>\n",
       "      <td>1</td>\n",
       "      <td>F</td>\n",
       "    </tr>\n",
       "    <tr>\n",
       "      <th>394</th>\n",
       "      <td>MS</td>\n",
       "      <td>M</td>\n",
       "      <td>19</td>\n",
       "      <td>U</td>\n",
       "      <td>LE3</td>\n",
       "      <td>T</td>\n",
       "      <td>1</td>\n",
       "      <td>1</td>\n",
       "      <td>other</td>\n",
       "      <td>at_home</td>\n",
       "      <td>...</td>\n",
       "      <td>3</td>\n",
       "      <td>3</td>\n",
       "      <td>5</td>\n",
       "      <td>5</td>\n",
       "      <td>8</td>\n",
       "      <td>9</td>\n",
       "      <td>9</td>\n",
       "      <td>8.67</td>\n",
       "      <td>0</td>\n",
       "      <td>F</td>\n",
       "    </tr>\n",
       "  </tbody>\n",
       "</table>\n",
       "<p>395 rows × 36 columns</p>\n",
       "</div>"
      ],
      "text/plain": [
       "    school sex  age address famsize Pstatus  Medu  Fedu      Mjob      Fjob  \\\n",
       "0       GP   F   18       U     GT3       A     4     4   at_home   teacher   \n",
       "1       GP   F   17       U     GT3       T     1     1   at_home     other   \n",
       "2       GP   F   15       U     LE3       T     1     1   at_home     other   \n",
       "3       GP   F   15       U     GT3       T     4     2    health  services   \n",
       "4       GP   F   16       U     GT3       T     3     3     other     other   \n",
       "..     ...  ..  ...     ...     ...     ...   ...   ...       ...       ...   \n",
       "390     MS   M   20       U     LE3       A     2     2  services  services   \n",
       "391     MS   M   17       U     LE3       T     3     1  services  services   \n",
       "392     MS   M   21       R     GT3       T     1     1     other     other   \n",
       "393     MS   M   18       R     LE3       T     3     2  services     other   \n",
       "394     MS   M   19       U     LE3       T     1     1     other   at_home   \n",
       "\n",
       "     ... Dalc Walc  health  absences  G1  G2  G3 avgscore y_binary avggrade  \n",
       "0    ...    1    1       3         6   5   6   6     5.67        0        F  \n",
       "1    ...    1    1       3         4   5   5   6     5.33        0        F  \n",
       "2    ...    2    3       3        10   7   8  10     8.33        0        F  \n",
       "3    ...    1    1       5         2  15  14  15    14.67        1        C  \n",
       "4    ...    1    2       5         4   6  10  10     8.67        0        F  \n",
       "..   ...  ...  ...     ...       ...  ..  ..  ..      ...      ...      ...  \n",
       "390  ...    4    5       4        11   9   9   9     9.00        0        F  \n",
       "391  ...    3    4       2         3  14  16  16    15.33        1        C  \n",
       "392  ...    3    3       3         3  10   8   7     8.33        0        F  \n",
       "393  ...    3    4       5         0  11  12  10    11.00        1        F  \n",
       "394  ...    3    3       5         5   8   9   9     8.67        0        F  \n",
       "\n",
       "[395 rows x 36 columns]"
      ]
     },
     "execution_count": 267,
     "metadata": {},
     "output_type": "execute_result"
    }
   ],
   "source": [
    "stud_df"
   ]
  },
  {
   "cell_type": "markdown",
   "id": "b7a43a5c",
   "metadata": {
    "scrolled": true
   },
   "source": [
    "# Visualizations of the parent's education affecting student performance"
   ]
  },
  {
   "cell_type": "code",
   "execution_count": 269,
   "id": "6bb79609",
   "metadata": {
    "scrolled": true
   },
   "outputs": [
    {
     "data": {
      "text/plain": [
       "<AxesSubplot:xlabel='avggrade', ylabel='Fedu'>"
      ]
     },
     "execution_count": 269,
     "metadata": {},
     "output_type": "execute_result"
    },
    {
     "data": {
      "image/png": "[encoded data removed]",
      "text/plain": [
       "<Figure size 432x288 with 1 Axes>"
      ]
     },
     "metadata": {},
     "output_type": "display_data"
    }
   ],
   "source": [
    "sns.lineplot(data=stud_df, x=\"avggrade\", y=\"Fedu\")"
   ]
  },
  {
   "cell_type": "code",
   "execution_count": 310,
   "id": "6e017ca1",
   "metadata": {},
   "outputs": [
    {
     "data": {
      "text/plain": [
       "<AxesSubplot:xlabel='avggrade', ylabel='Medu'>"
      ]
     },
     "execution_count": 310,
     "metadata": {},
     "output_type": "execute_result"
    },
    {
     "data": {
      "image/png": "[encoded data removed]",
      "text/plain": [
       "<Figure size 432x288 with 1 Axes>"
      ]
     },
     "metadata": {},
     "output_type": "display_data"
    }
   ],
   "source": [
    "sns.lineplot(data=stud_df, x=\"avggrade\", y=\"Medu\")"
   ]
  },
  {
   "cell_type": "code",
   "execution_count": 308,
   "id": "92f4196f",
   "metadata": {},
   "outputs": [
    {
     "data": {
      "text/plain": [
       "<AxesSubplot:title={'center':'Mother edu vs student grades'}, xlabel='avggrade', ylabel='Medu'>"
      ]
     },
     "execution_count": 308,
     "metadata": {},
     "output_type": "execute_result"
    },
    {
     "data": {
      "image/png": "[encoded data removed]",
      "text/plain": [
       "<Figure size 432x288 with 2 Axes>"
      ]
     },
     "metadata": {},
     "output_type": "display_data"
    }
   ],
   "source": [
    "# Two subplots\n",
    "f, (ax1, ax2) = plt.subplots(1, 2, sharey=True)\n",
    "ax1.set_title('Father edu vs student grades')\n",
    "ax2.set_title('Mother edu vs student grades')\n",
    "\n",
    "sns.lineplot(data=stud_df, x=\"avggrade\", y=\"Fedu\", ax=ax1)\n",
    "sns.lineplot(data=stud_df, x=\"avggrade\", y=\"Medu\", ax=ax2)"
   ]
  },
  {
   "cell_type": "code",
   "execution_count": 292,
   "id": "f6cb454c",
   "metadata": {},
   "outputs": [
    {
     "data": {
      "text/plain": [
       "<AxesSubplot:xlabel='avggrade', ylabel='Fedu'>"
      ]
     },
     "execution_count": 292,
     "metadata": {},
     "output_type": "execute_result"
    },
    {
     "data": {
      "image/png": "[encoded data removed]",
      "text/plain": [
       "<Figure size 432x288 with 1 Axes>"
      ]
     },
     "metadata": {},
     "output_type": "display_data"
    }
   ],
   "source": [
    "sns.barplot(data=stud_df, x=\"avggrade\", y=\"Fedu\")"
   ]
  },
  {
   "cell_type": "code",
   "execution_count": 293,
   "id": "c6d693e9",
   "metadata": {},
   "outputs": [
    {
     "data": {
      "text/plain": [
       "<AxesSubplot:xlabel='avggrade', ylabel='Medu'>"
      ]
     },
     "execution_count": 293,
     "metadata": {},
     "output_type": "execute_result"
    },
    {
     "data": {
      "image/png": "[encoded data removed]",
      "text/plain": [
       "<Figure size 432x288 with 1 Axes>"
      ]
     },
     "metadata": {},
     "output_type": "display_data"
    }
   ],
   "source": [
    "sns.barplot(data=stud_df, x=\"avggrade\", y=\"Medu\")"
   ]
  },
  {
   "cell_type": "code",
   "execution_count": 305,
   "id": "be4bac68",
   "metadata": {},
   "outputs": [
    {
     "data": {
      "text/plain": [
       "<AxesSubplot:title={'center':'Mother edu vs student grades'}, xlabel='avggrade', ylabel='Medu'>"
      ]
     },
     "execution_count": 305,
     "metadata": {},
     "output_type": "execute_result"
    },
    {
     "data": {
      "image/png": "[encoded data removed]",
      "text/plain": [
       "<Figure size 432x288 with 2 Axes>"
      ]
     },
     "metadata": {},
     "output_type": "display_data"
    }
   ],
   "source": [
    "# Two subplots\n",
    "f, (ax1, ax2) = plt.subplots(1, 2, sharey=True)\n",
    "ax1.set_title('Father edu vs student grades')\n",
    "ax2.set_title('Mother edu vs student grades')\n",
    "\n",
    "sns.barplot(data=stud_df, x=\"avggrade\", y=\"Fedu\", ax=ax1)\n",
    "sns.barplot(data=stud_df, x=\"avggrade\", y=\"Medu\", ax=ax2)"
   ]
  },
  {
   "cell_type": "markdown",
   "id": "1d013b6b",
   "metadata": {},
   "source": [
    "# Conclusion\n",
    "\n",
    "Here we can visually see that the student's performance is clearly affected by the educational status of the parents.\n",
    "We also found out that out of the parents, the mothers were the more educated of the two.\n",
    "Not only that, but the mother's educational status seemed to have more of an influence on the student's performance, interesting!"
   ]
  }
 ],
 "metadata": {
  "kernelspec": {
   "display_name": "Python 3",
   "language": "python",
   "name": "python3"
  },
  "language_info": {
   "codemirror_mode": {
    "name": "ipython",
    "version": 3
   },
   "file_extension": ".py",
   "mimetype": "text/x-python",
   "name": "python",
   "nbconvert_exporter": "python",
   "pygments_lexer": "ipython3",
   "version": "3.8.8"
  }
 },
 "nbformat": 4,
 "nbformat_minor": 5
}

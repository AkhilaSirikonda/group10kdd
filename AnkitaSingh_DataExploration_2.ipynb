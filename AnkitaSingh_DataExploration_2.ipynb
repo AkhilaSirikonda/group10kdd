{
 "cells": [
  {
   "cell_type": "code",
   "execution_count": 1,
   "id": "13913f99",
   "metadata": {},
   "outputs": [
    {
     "name": "stdout",
     "output_type": "stream",
     "text": [
      "/Users/ankitasingh/Desktop/6162-KnowledgeDiscoveryInDatabases/Project\n"
     ]
    }
   ],
   "source": [
    "cd /Users/ankitasingh/Desktop/6162-KnowledgeDiscoveryInDatabases/Project"
   ]
  },
  {
   "cell_type": "code",
   "execution_count": 2,
   "id": "618c54a0",
   "metadata": {},
   "outputs": [
    {
     "name": "stdout",
     "output_type": "stream",
     "text": [
      "    school sex  age address famsize Pstatus  Medu  Fedu      Mjob      Fjob  \\\n",
      "0       GP   F   18       U     GT3       A     4     4   at_home   teacher   \n",
      "1       GP   F   17       U     GT3       T     1     1   at_home     other   \n",
      "2       GP   F   15       U     LE3       T     1     1   at_home     other   \n",
      "3       GP   F   15       U     GT3       T     4     2    health  services   \n",
      "4       GP   F   16       U     GT3       T     3     3     other     other   \n",
      "..     ...  ..  ...     ...     ...     ...   ...   ...       ...       ...   \n",
      "390     MS   M   20       U     LE3       A     2     2  services  services   \n",
      "391     MS   M   17       U     LE3       T     3     1  services  services   \n",
      "392     MS   M   21       R     GT3       T     1     1     other     other   \n",
      "393     MS   M   18       R     LE3       T     3     2  services     other   \n",
      "394     MS   M   19       U     LE3       T     1     1     other   at_home   \n",
      "\n",
      "     ... goout Dalc  Walc  health  absences  G1  G2  G3 avgscore y_binary  \n",
      "0    ...     4    1     1       3         6   5   6   6     5.67        0  \n",
      "1    ...     3    1     1       3         4   5   5   6     5.33        0  \n",
      "2    ...     2    2     3       3        10   7   8  10     8.33        0  \n",
      "3    ...     2    1     1       5         2  15  14  15    14.67        1  \n",
      "4    ...     2    1     2       5         4   6  10  10     8.67        0  \n",
      "..   ...   ...  ...   ...     ...       ...  ..  ..  ..      ...      ...  \n",
      "390  ...     4    4     5       4        11   9   9   9     9.00        0  \n",
      "391  ...     5    3     4       2         3  14  16  16    15.33        1  \n",
      "392  ...     3    3     3       3         3  10   8   7     8.33        0  \n",
      "393  ...     1    3     4       5         0  11  12  10    11.00        1  \n",
      "394  ...     3    3     3       5         5   8   9   9     8.67        0  \n",
      "\n",
      "[395 rows x 35 columns]\n"
     ]
    }
   ],
   "source": [
    "import pandas as pd\n",
    "stud_df = pd.read_csv('student-mat-v1.csv')\n",
    "print(stud_df)"
   ]
  },
  {
   "cell_type": "code",
   "execution_count": 3,
   "id": "ab7fe99a",
   "metadata": {},
   "outputs": [
    {
     "data": {
      "text/html": [
       "<div>\n",
       "<style scoped>\n",
       "    .dataframe tbody tr th:only-of-type {\n",
       "        vertical-align: middle;\n",
       "    }\n",
       "\n",
       "    .dataframe tbody tr th {\n",
       "        vertical-align: top;\n",
       "    }\n",
       "\n",
       "    .dataframe thead th {\n",
       "        text-align: right;\n",
       "    }\n",
       "</style>\n",
       "<table border=\"1\" class=\"dataframe\">\n",
       "  <thead>\n",
       "    <tr style=\"text-align: right;\">\n",
       "      <th></th>\n",
       "      <th>school</th>\n",
       "      <th>sex</th>\n",
       "      <th>age</th>\n",
       "      <th>address</th>\n",
       "      <th>famsize</th>\n",
       "      <th>Pstatus</th>\n",
       "      <th>Medu</th>\n",
       "      <th>Fedu</th>\n",
       "      <th>Mjob</th>\n",
       "      <th>Fjob</th>\n",
       "      <th>...</th>\n",
       "      <th>goout</th>\n",
       "      <th>Dalc</th>\n",
       "      <th>Walc</th>\n",
       "      <th>health</th>\n",
       "      <th>absences</th>\n",
       "      <th>G1</th>\n",
       "      <th>G2</th>\n",
       "      <th>G3</th>\n",
       "      <th>avgscore</th>\n",
       "      <th>y_binary</th>\n",
       "    </tr>\n",
       "  </thead>\n",
       "  <tbody>\n",
       "    <tr>\n",
       "      <th>0</th>\n",
       "      <td>GP</td>\n",
       "      <td>F</td>\n",
       "      <td>18</td>\n",
       "      <td>U</td>\n",
       "      <td>GT3</td>\n",
       "      <td>A</td>\n",
       "      <td>4</td>\n",
       "      <td>4</td>\n",
       "      <td>at_home</td>\n",
       "      <td>teacher</td>\n",
       "      <td>...</td>\n",
       "      <td>4</td>\n",
       "      <td>1</td>\n",
       "      <td>1</td>\n",
       "      <td>3</td>\n",
       "      <td>6</td>\n",
       "      <td>5</td>\n",
       "      <td>6</td>\n",
       "      <td>6</td>\n",
       "      <td>5.67</td>\n",
       "      <td>0</td>\n",
       "    </tr>\n",
       "    <tr>\n",
       "      <th>1</th>\n",
       "      <td>GP</td>\n",
       "      <td>F</td>\n",
       "      <td>17</td>\n",
       "      <td>U</td>\n",
       "      <td>GT3</td>\n",
       "      <td>T</td>\n",
       "      <td>1</td>\n",
       "      <td>1</td>\n",
       "      <td>at_home</td>\n",
       "      <td>other</td>\n",
       "      <td>...</td>\n",
       "      <td>3</td>\n",
       "      <td>1</td>\n",
       "      <td>1</td>\n",
       "      <td>3</td>\n",
       "      <td>4</td>\n",
       "      <td>5</td>\n",
       "      <td>5</td>\n",
       "      <td>6</td>\n",
       "      <td>5.33</td>\n",
       "      <td>0</td>\n",
       "    </tr>\n",
       "    <tr>\n",
       "      <th>2</th>\n",
       "      <td>GP</td>\n",
       "      <td>F</td>\n",
       "      <td>15</td>\n",
       "      <td>U</td>\n",
       "      <td>LE3</td>\n",
       "      <td>T</td>\n",
       "      <td>1</td>\n",
       "      <td>1</td>\n",
       "      <td>at_home</td>\n",
       "      <td>other</td>\n",
       "      <td>...</td>\n",
       "      <td>2</td>\n",
       "      <td>2</td>\n",
       "      <td>3</td>\n",
       "      <td>3</td>\n",
       "      <td>10</td>\n",
       "      <td>7</td>\n",
       "      <td>8</td>\n",
       "      <td>10</td>\n",
       "      <td>8.33</td>\n",
       "      <td>0</td>\n",
       "    </tr>\n",
       "    <tr>\n",
       "      <th>3</th>\n",
       "      <td>GP</td>\n",
       "      <td>F</td>\n",
       "      <td>15</td>\n",
       "      <td>U</td>\n",
       "      <td>GT3</td>\n",
       "      <td>T</td>\n",
       "      <td>4</td>\n",
       "      <td>2</td>\n",
       "      <td>health</td>\n",
       "      <td>services</td>\n",
       "      <td>...</td>\n",
       "      <td>2</td>\n",
       "      <td>1</td>\n",
       "      <td>1</td>\n",
       "      <td>5</td>\n",
       "      <td>2</td>\n",
       "      <td>15</td>\n",
       "      <td>14</td>\n",
       "      <td>15</td>\n",
       "      <td>14.67</td>\n",
       "      <td>1</td>\n",
       "    </tr>\n",
       "    <tr>\n",
       "      <th>4</th>\n",
       "      <td>GP</td>\n",
       "      <td>F</td>\n",
       "      <td>16</td>\n",
       "      <td>U</td>\n",
       "      <td>GT3</td>\n",
       "      <td>T</td>\n",
       "      <td>3</td>\n",
       "      <td>3</td>\n",
       "      <td>other</td>\n",
       "      <td>other</td>\n",
       "      <td>...</td>\n",
       "      <td>2</td>\n",
       "      <td>1</td>\n",
       "      <td>2</td>\n",
       "      <td>5</td>\n",
       "      <td>4</td>\n",
       "      <td>6</td>\n",
       "      <td>10</td>\n",
       "      <td>10</td>\n",
       "      <td>8.67</td>\n",
       "      <td>0</td>\n",
       "    </tr>\n",
       "  </tbody>\n",
       "</table>\n",
       "<p>5 rows × 35 columns</p>\n",
       "</div>"
      ],
      "text/plain": [
       "  school sex  age address famsize Pstatus  Medu  Fedu     Mjob      Fjob  ...  \\\n",
       "0     GP   F   18       U     GT3       A     4     4  at_home   teacher  ...   \n",
       "1     GP   F   17       U     GT3       T     1     1  at_home     other  ...   \n",
       "2     GP   F   15       U     LE3       T     1     1  at_home     other  ...   \n",
       "3     GP   F   15       U     GT3       T     4     2   health  services  ...   \n",
       "4     GP   F   16       U     GT3       T     3     3    other     other  ...   \n",
       "\n",
       "  goout Dalc  Walc  health  absences  G1  G2  G3 avgscore y_binary  \n",
       "0     4    1     1       3         6   5   6   6     5.67        0  \n",
       "1     3    1     1       3         4   5   5   6     5.33        0  \n",
       "2     2    2     3       3        10   7   8  10     8.33        0  \n",
       "3     2    1     1       5         2  15  14  15    14.67        1  \n",
       "4     2    1     2       5         4   6  10  10     8.67        0  \n",
       "\n",
       "[5 rows x 35 columns]"
      ]
     },
     "execution_count": 3,
     "metadata": {},
     "output_type": "execute_result"
    }
   ],
   "source": [
    "stud_df.head()"
   ]
  },
  {
   "cell_type": "code",
   "execution_count": 4,
   "id": "07a33c25",
   "metadata": {},
   "outputs": [
    {
     "name": "stdout",
     "output_type": "stream",
     "text": [
      "0       no\n",
      "1      yes\n",
      "2      yes\n",
      "3      yes\n",
      "4       no\n",
      "      ... \n",
      "390     no\n",
      "391    yes\n",
      "392     no\n",
      "393    yes\n",
      "394    yes\n",
      "Name: internet, Length: 395, dtype: object 0       5.67\n",
      "1       5.33\n",
      "2       8.33\n",
      "3      14.67\n",
      "4       8.67\n",
      "       ...  \n",
      "390     9.00\n",
      "391    15.33\n",
      "392     8.33\n",
      "393    11.00\n",
      "394     8.67\n",
      "Name: avgscore, Length: 395, dtype: float64\n"
     ]
    }
   ],
   "source": [
    "print(stud_df[\"internet\"],stud_df[\"avgscore\"])"
   ]
  },
  {
   "cell_type": "code",
   "execution_count": 5,
   "id": "32cd1ab8",
   "metadata": {},
   "outputs": [],
   "source": [
    "import seaborn as sns\n",
    "import matplotlib.pyplot as plt\n",
    "sns.set_theme(style=\"ticks\", color_codes=True)"
   ]
  },
  {
   "cell_type": "code",
   "execution_count": 6,
   "id": "a3d9c273",
   "metadata": {},
   "outputs": [
    {
     "data": {
      "text/plain": [
       "1      yes\n",
       "2      yes\n",
       "3      yes\n",
       "5      yes\n",
       "6      yes\n",
       "      ... \n",
       "387    yes\n",
       "388    yes\n",
       "391    yes\n",
       "393    yes\n",
       "394    yes\n",
       "Name: internet, Length: 329, dtype: object"
      ]
     },
     "execution_count": 6,
     "metadata": {},
     "output_type": "execute_result"
    }
   ],
   "source": [
    "df_Y = stud_df[\"internet\"].loc[stud_df[\"internet\"] == \"yes\"]\n",
    "df_Y"
   ]
  },
  {
   "cell_type": "code",
   "execution_count": 7,
   "id": "b2724b9f",
   "metadata": {},
   "outputs": [
    {
     "data": {
      "text/plain": [
       "0      no\n",
       "4      no\n",
       "7      no\n",
       "17     no\n",
       "35     no\n",
       "       ..\n",
       "384    no\n",
       "385    no\n",
       "389    no\n",
       "390    no\n",
       "392    no\n",
       "Name: internet, Length: 66, dtype: object"
      ]
     },
     "execution_count": 7,
     "metadata": {},
     "output_type": "execute_result"
    }
   ],
   "source": [
    "df_N = stud_df[\"internet\"].loc[stud_df[\"internet\"] == \"no\"]\n",
    "df_N"
   ]
  },
  {
   "cell_type": "code",
   "execution_count": 8,
   "id": "47b2ddbf",
   "metadata": {},
   "outputs": [
    {
     "data": {
      "image/png": "[encoded data removed]",
      "text/plain": [
       "<Figure size 432x288 with 1 Axes>"
      ]
     },
     "metadata": {},
     "output_type": "display_data"
    }
   ],
   "source": [
    "labels = 'yes', 'no'\n",
    "levels = [df_Y.size, df_N.size]\n",
    "explode = (0.1, 0)\n",
    "\n",
    "fig1, ax1 = plt.subplots()\n",
    "ax1.pie(levels, explode=explode, labels=labels, autopct='%1.1f%%',\n",
    "        shadow=False, startangle=0)\n",
    "ax1.axis('equal')\n",
    "\n",
    "plt.show()"
   ]
  },
  {
   "cell_type": "markdown",
   "id": "55a46a3b",
   "metadata": {},
   "source": [
    "Now we will visualize the average scores of the students\n",
    "The scores will be converted to the 5 letter grading scale as shown below:\n",
    "A: >= 90\n",
    "B: >= 80\n",
    "C: >= 70\n",
    "D: >= 60\n",
    "F: <= 59"
   ]
  },
  {
   "cell_type": "code",
   "execution_count": 9,
   "id": "4f511428",
   "metadata": {},
   "outputs": [
    {
     "data": {
      "text/plain": [
       "42     18.33\n",
       "47     19.33\n",
       "110    18.67\n",
       "113    18.67\n",
       "129    18.00\n",
       "198    18.00\n",
       "245    18.00\n",
       "286    18.33\n",
       "293    18.00\n",
       "374    18.67\n",
       "Name: avgscore, dtype: float64"
      ]
     },
     "execution_count": 9,
     "metadata": {},
     "output_type": "execute_result"
    }
   ],
   "source": [
    "A = stud_df[\"avgscore\"].loc[stud_df[\"avgscore\"]/20 * 100 >= 90]\n",
    "A"
   ]
  },
  {
   "cell_type": "code",
   "execution_count": 10,
   "id": "b1bc6fbe",
   "metadata": {},
   "outputs": [
    {
     "data": {
      "text/plain": [
       "8      17.67\n",
       "31     16.67\n",
       "32     16.33\n",
       "36     16.33\n",
       "69     16.00\n",
       "91     17.00\n",
       "101    16.67\n",
       "104    17.33\n",
       "107    17.33\n",
       "182    16.67\n",
       "196    16.00\n",
       "200    16.00\n",
       "222    16.33\n",
       "260    17.67\n",
       "265    17.00\n",
       "303    17.33\n",
       "306    17.67\n",
       "338    16.00\n",
       "359    16.67\n",
       "Name: avgscore, dtype: float64"
      ]
     },
     "execution_count": 10,
     "metadata": {},
     "output_type": "execute_result"
    }
   ],
   "source": [
    "B = stud_df[\"avgscore\"].loc[(stud_df[\"avgscore\"]/20 * 100).between(80,89,inclusive=True)]\n",
    "B"
   ]
  },
  {
   "cell_type": "code",
   "execution_count": 11,
   "id": "d6e7e509",
   "metadata": {},
   "outputs": [
    {
     "data": {
      "text/plain": [
       "3      14.67\n",
       "5      15.00\n",
       "9      14.67\n",
       "12     14.00\n",
       "14     15.33\n",
       "15     14.00\n",
       "20     14.00\n",
       "21     14.00\n",
       "22     15.33\n",
       "27     15.33\n",
       "37     15.33\n",
       "48     14.67\n",
       "56     14.67\n",
       "57     14.67\n",
       "59     15.67\n",
       "65     15.33\n",
       "70     14.33\n",
       "83     15.00\n",
       "109    15.00\n",
       "115    15.33\n",
       "120    15.33\n",
       "121    15.00\n",
       "139    15.67\n",
       "158    15.67\n",
       "167    15.00\n",
       "169    14.00\n",
       "171    14.67\n",
       "187    15.00\n",
       "195    14.67\n",
       "215    14.67\n",
       "226    15.33\n",
       "249    14.33\n",
       "258    14.33\n",
       "271    14.33\n",
       "273    14.33\n",
       "288    14.33\n",
       "289    14.33\n",
       "291    15.00\n",
       "299    15.67\n",
       "304    14.00\n",
       "324    15.33\n",
       "326    15.00\n",
       "329    14.00\n",
       "335    15.33\n",
       "342    15.33\n",
       "346    15.67\n",
       "348    14.33\n",
       "363    15.33\n",
       "376    14.67\n",
       "378    15.00\n",
       "380    14.33\n",
       "391    15.33\n",
       "Name: avgscore, dtype: float64"
      ]
     },
     "execution_count": 11,
     "metadata": {},
     "output_type": "execute_result"
    }
   ],
   "source": [
    "C = stud_df[\"avgscore\"].loc[(stud_df[\"avgscore\"]/20 * 100).between(70,79,inclusive=True)]\n",
    "C"
   ]
  },
  {
   "cell_type": "code",
   "execution_count": 12,
   "id": "3bc234b4",
   "metadata": {},
   "outputs": [
    {
     "data": {
      "text/plain": [
       "16     13.67\n",
       "23     12.67\n",
       "34     13.67\n",
       "39     13.33\n",
       "41     12.00\n",
       "       ...  \n",
       "360    13.00\n",
       "361    12.33\n",
       "366    13.00\n",
       "369    12.33\n",
       "371    12.67\n",
       "Name: avgscore, Length: 71, dtype: float64"
      ]
     },
     "execution_count": 12,
     "metadata": {},
     "output_type": "execute_result"
    }
   ],
   "source": [
    "D = stud_df[\"avgscore\"].loc[(stud_df[\"avgscore\"]/20 * 100).between(60,69,inclusive=True)]\n",
    "D"
   ]
  },
  {
   "cell_type": "code",
   "execution_count": 13,
   "id": "1f0ea622",
   "metadata": {},
   "outputs": [
    {
     "data": {
      "text/plain": [
       "0       5.67\n",
       "1       5.33\n",
       "2       8.33\n",
       "4       8.67\n",
       "6      11.67\n",
       "       ...  \n",
       "389     3.67\n",
       "390     9.00\n",
       "392     8.33\n",
       "393    11.00\n",
       "394     8.67\n",
       "Name: avgscore, Length: 243, dtype: float64"
      ]
     },
     "execution_count": 13,
     "metadata": {},
     "output_type": "execute_result"
    }
   ],
   "source": [
    "F = stud_df[\"avgscore\"].loc[(stud_df[\"avgscore\"]/20 * 100).between(0,59,inclusive=True)]\n",
    "F"
   ]
  },
  {
   "cell_type": "markdown",
   "id": "e6aedab1",
   "metadata": {},
   "source": [
    "Grade distrubution in students"
   ]
  },
  {
   "cell_type": "code",
   "execution_count": 14,
   "id": "da8fd5a8",
   "metadata": {},
   "outputs": [
    {
     "data": {
      "image/png": "[encoded data removed]",
      "text/plain": [
       "<Figure size 432x288 with 1 Axes>"
      ]
     },
     "metadata": {},
     "output_type": "display_data"
    }
   ],
   "source": [
    "labels = 'A', 'B', 'C', 'D', 'F'\n",
    "levels = [A.size, B.size, C.size, D.size, F.size]\n",
    "explode = (0.1, 0, 0, 0, 0) \n",
    "\n",
    "fig1, ax1 = plt.subplots()\n",
    "ax1.pie(levels, explode=explode, labels=labels, autopct='%1.1f%%',\n",
    "        shadow=False, startangle=0)\n",
    "ax1.axis('equal') \n",
    "\n",
    "plt.show()"
   ]
  },
  {
   "cell_type": "markdown",
   "id": "f1d20574",
   "metadata": {},
   "source": [
    "Students who have an internet and got a A average "
   ]
  },
  {
   "cell_type": "code",
   "execution_count": 15,
   "id": "717874c6",
   "metadata": {},
   "outputs": [
    {
     "data": {
      "text/plain": [
       "42     yes\n",
       "47     yes\n",
       "110    yes\n",
       "113    yes\n",
       "129    yes\n",
       "198    yes\n",
       "245    yes\n",
       "286    yes\n",
       "293     no\n",
       "374    yes\n",
       "Name: internet, dtype: object"
      ]
     },
     "execution_count": 15,
     "metadata": {},
     "output_type": "execute_result"
    }
   ],
   "source": [
    "InA= stud_df[\"internet\"].loc[stud_df[\"avgscore\"]/20 * 100 >= 90]\n",
    "InA"
   ]
  },
  {
   "cell_type": "code",
   "execution_count": 16,
   "id": "a91ed53a",
   "metadata": {},
   "outputs": [
    {
     "data": {
      "image/png": "[encoded data removed]",
      "text/plain": [
       "<Figure size 432x288 with 1 Axes>"
      ]
     },
     "metadata": {},
     "output_type": "display_data"
    }
   ],
   "source": [
    "labels = 'yes', 'no'\n",
    "levels = [InA.loc[InA==\"yes\"].size, InA.loc[InA==\"no\"].size]\n",
    "explode = (0, 0) \n",
    "\n",
    "fig1, ax1 = plt.subplots()\n",
    "ax1.pie(levels, explode=explode, labels=labels, autopct='%1.1f%%',\n",
    "        shadow=False, startangle=0)\n",
    "ax1.axis('equal') \n",
    "\n",
    "plt.show()"
   ]
  },
  {
   "cell_type": "markdown",
   "id": "f912ec39",
   "metadata": {},
   "source": [
    "Students who have an internet and got a B average "
   ]
  },
  {
   "cell_type": "code",
   "execution_count": 17,
   "id": "d00c241e",
   "metadata": {},
   "outputs": [
    {
     "data": {
      "text/plain": [
       "8      yes\n",
       "31     yes\n",
       "32     yes\n",
       "36     yes\n",
       "69     yes\n",
       "91     yes\n",
       "101    yes\n",
       "104    yes\n",
       "107    yes\n",
       "182     no\n",
       "196    yes\n",
       "200    yes\n",
       "222    yes\n",
       "260    yes\n",
       "265    yes\n",
       "303    yes\n",
       "306     no\n",
       "338    yes\n",
       "359    yes\n",
       "Name: internet, dtype: object"
      ]
     },
     "execution_count": 17,
     "metadata": {},
     "output_type": "execute_result"
    }
   ],
   "source": [
    "InB = stud_df[\"internet\"].loc[(stud_df[\"avgscore\"]/20 * 100).between(80,89,inclusive=True)]\n",
    "InB"
   ]
  },
  {
   "cell_type": "code",
   "execution_count": 18,
   "id": "b133065d",
   "metadata": {},
   "outputs": [
    {
     "data": {
      "image/png": "[encoded data removed]",
      "text/plain": [
       "<Figure size 432x288 with 1 Axes>"
      ]
     },
     "metadata": {},
     "output_type": "display_data"
    }
   ],
   "source": [
    "labels = 'yes', 'no'\n",
    "levels = [InB.loc[InB==\"yes\"].size, InB.loc[InB==\"no\"].size]\n",
    "explode = (0, 0) \n",
    "\n",
    "fig1, ax1 = plt.subplots()\n",
    "ax1.pie(levels, explode=explode, labels=labels, autopct='%1.1f%%',\n",
    "        shadow=False, startangle=0)\n",
    "ax1.axis('equal') \n",
    "\n",
    "plt.show()"
   ]
  },
  {
   "cell_type": "markdown",
   "id": "d7935f32",
   "metadata": {},
   "source": [
    "Students who have an internet and got a C average "
   ]
  },
  {
   "cell_type": "code",
   "execution_count": 19,
   "id": "08a9ef29",
   "metadata": {},
   "outputs": [
    {
     "data": {
      "text/plain": [
       "3      yes\n",
       "5      yes\n",
       "9      yes\n",
       "12     yes\n",
       "14     yes\n",
       "15     yes\n",
       "20     yes\n",
       "21     yes\n",
       "22     yes\n",
       "27     yes\n",
       "37     yes\n",
       "48      no\n",
       "56     yes\n",
       "57      no\n",
       "59     yes\n",
       "65     yes\n",
       "70     yes\n",
       "83     yes\n",
       "109    yes\n",
       "115    yes\n",
       "120    yes\n",
       "121    yes\n",
       "139    yes\n",
       "158     no\n",
       "167    yes\n",
       "169    yes\n",
       "171    yes\n",
       "187    yes\n",
       "195    yes\n",
       "215    yes\n",
       "226    yes\n",
       "249    yes\n",
       "258    yes\n",
       "271    yes\n",
       "273     no\n",
       "288    yes\n",
       "289    yes\n",
       "291    yes\n",
       "299    yes\n",
       "304    yes\n",
       "324    yes\n",
       "326    yes\n",
       "329    yes\n",
       "335    yes\n",
       "342    yes\n",
       "346    yes\n",
       "348    yes\n",
       "363    yes\n",
       "376    yes\n",
       "378    yes\n",
       "380    yes\n",
       "391    yes\n",
       "Name: internet, dtype: object"
      ]
     },
     "execution_count": 19,
     "metadata": {},
     "output_type": "execute_result"
    }
   ],
   "source": [
    "InC = stud_df[\"internet\"].loc[(stud_df[\"avgscore\"]/20 * 100).between(70,79,inclusive=True)]\n",
    "InC"
   ]
  },
  {
   "cell_type": "code",
   "execution_count": 20,
   "id": "62696583",
   "metadata": {},
   "outputs": [
    {
     "data": {
      "image/png": "[encoded data removed]",
      "text/plain": [
       "<Figure size 432x288 with 1 Axes>"
      ]
     },
     "metadata": {},
     "output_type": "display_data"
    }
   ],
   "source": [
    "labels = 'yes', 'no'\n",
    "levels = [InC.loc[InC==\"yes\"].size, InC.loc[InC==\"no\"].size]\n",
    "explode = (0, 0) \n",
    "\n",
    "fig1, ax1 = plt.subplots()\n",
    "ax1.pie(levels, explode=explode, labels=labels, autopct='%1.1f%%',\n",
    "        shadow=False, startangle=0)\n",
    "ax1.axis('equal') \n",
    "\n",
    "plt.show()"
   ]
  },
  {
   "cell_type": "markdown",
   "id": "862701e5",
   "metadata": {},
   "source": [
    "Students who have an internet and got a D average "
   ]
  },
  {
   "cell_type": "code",
   "execution_count": 22,
   "id": "da53e0cd",
   "metadata": {},
   "outputs": [
    {
     "data": {
      "text/plain": [
       "16     yes\n",
       "23     yes\n",
       "34     yes\n",
       "39      no\n",
       "41     yes\n",
       "      ... \n",
       "360     no\n",
       "361     no\n",
       "366    yes\n",
       "369    yes\n",
       "371    yes\n",
       "Name: internet, Length: 71, dtype: object"
      ]
     },
     "execution_count": 22,
     "metadata": {},
     "output_type": "execute_result"
    }
   ],
   "source": [
    "InD = stud_df[\"internet\"].loc[(stud_df[\"avgscore\"]/20 * 100).between(60,69,inclusive=True)]\n",
    "InD"
   ]
  },
  {
   "cell_type": "code",
   "execution_count": 23,
   "id": "c2868338",
   "metadata": {},
   "outputs": [
    {
     "data": {
      "image/png": "[encoded data removed]",
      "text/plain": [
       "<Figure size 432x288 with 1 Axes>"
      ]
     },
     "metadata": {},
     "output_type": "display_data"
    }
   ],
   "source": [
    "labels = 'yes', 'no'\n",
    "levels = [InD.loc[InD==\"yes\"].size, InD.loc[InD==\"no\"].size]\n",
    "explode = (0, 0) \n",
    "\n",
    "fig1, ax1 = plt.subplots()\n",
    "ax1.pie(levels, explode=explode, labels=labels, autopct='%1.1f%%',\n",
    "        shadow=False, startangle=0)\n",
    "ax1.axis('equal') \n",
    "\n",
    "plt.show()"
   ]
  },
  {
   "cell_type": "markdown",
   "id": "c3361d34",
   "metadata": {},
   "source": [
    "Students who have an internet and got a F average "
   ]
  },
  {
   "cell_type": "code",
   "execution_count": 24,
   "id": "a9f5d962",
   "metadata": {},
   "outputs": [
    {
     "data": {
      "text/plain": [
       "0       no\n",
       "1      yes\n",
       "2      yes\n",
       "4       no\n",
       "6      yes\n",
       "      ... \n",
       "389     no\n",
       "390     no\n",
       "392     no\n",
       "393    yes\n",
       "394    yes\n",
       "Name: internet, Length: 243, dtype: object"
      ]
     },
     "execution_count": 24,
     "metadata": {},
     "output_type": "execute_result"
    }
   ],
   "source": [
    "InF = stud_df[\"internet\"].loc[(stud_df[\"avgscore\"]/20 * 100).between(0,59,inclusive=True)]\n",
    "InF"
   ]
  },
  {
   "cell_type": "code",
   "execution_count": 25,
   "id": "54d7a731",
   "metadata": {},
   "outputs": [
    {
     "data": {
      "image/png": "[encoded data removed]",
      "text/plain": [
       "<Figure size 432x288 with 1 Axes>"
      ]
     },
     "metadata": {},
     "output_type": "display_data"
    }
   ],
   "source": [
    "labels = 'yes', 'no'\n",
    "levels = [InF.loc[InF==\"yes\"].size, InF.loc[InF==\"no\"].size]\n",
    "explode = (0, 0) \n",
    "\n",
    "fig1, ax1 = plt.subplots()\n",
    "ax1.pie(levels, explode=explode, labels=labels, autopct='%1.1f%%',\n",
    "        shadow=False, startangle=0)\n",
    "ax1.axis('equal') \n",
    "\n",
    "plt.show()"
   ]
  },
  {
   "cell_type": "code",
   "execution_count": 27,
   "id": "67efff87",
   "metadata": {},
   "outputs": [
    {
     "data": {
      "text/plain": [
       "[10, 19, 52, 71, 243]"
      ]
     },
     "execution_count": 27,
     "metadata": {},
     "output_type": "execute_result"
    }
   ],
   "source": [
    "scores = [A.size,B.size,C.size,D.size,F.size]\n",
    "scores"
   ]
  },
  {
   "cell_type": "code",
   "execution_count": 28,
   "id": "5f5629e4",
   "metadata": {},
   "outputs": [],
   "source": [
    "grades = {\n",
    "    90: \"A\",\n",
    "    80: \"B\",\n",
    "    70: \"C\",\n",
    "    60: \"D\",\n",
    "    0: \"F\",\n",
    "}\n",
    "\n",
    "def grade_mapping(value):\n",
    "    for key, letter in grades.items():\n",
    "        if value >= key:\n",
    "            return letter"
   ]
  },
  {
   "cell_type": "code",
   "execution_count": 29,
   "id": "9ddba60c",
   "metadata": {},
   "outputs": [],
   "source": [
    "letter_grades = (stud_df[\"avgscore\"]/20 * 100).map(grade_mapping)\n",
    "stud_df[\"avggrade\"] = pd.Categorical(\n",
    "    letter_grades, categories=grades.values(), ordered=True\n",
    ")"
   ]
  },
  {
   "cell_type": "code",
   "execution_count": 30,
   "id": "ce2ef9e4",
   "metadata": {},
   "outputs": [
    {
     "data": {
      "text/plain": [
       "6      F\n",
       "11     F\n",
       "13     F\n",
       "26     F\n",
       "28     F\n",
       "      ..\n",
       "368    F\n",
       "372    F\n",
       "379    F\n",
       "382    F\n",
       "393    F\n",
       "Name: avggrade, Length: 79, dtype: category\n",
       "Categories (5, object): ['A' < 'B' < 'C' < 'D' < 'F']"
      ]
     },
     "execution_count": 30,
     "metadata": {},
     "output_type": "execute_result"
    }
   ],
   "source": [
    "stud_df[\"avggrade\"].loc[(stud_df[\"avgscore\"]/20 * 100).between(50,59,inclusive=True)]\n"
   ]
  },
  {
   "cell_type": "code",
   "execution_count": 31,
   "id": "c73e3f95",
   "metadata": {},
   "outputs": [
    {
     "data": {
      "text/html": [
       "<div>\n",
       "<style scoped>\n",
       "    .dataframe tbody tr th:only-of-type {\n",
       "        vertical-align: middle;\n",
       "    }\n",
       "\n",
       "    .dataframe tbody tr th {\n",
       "        vertical-align: top;\n",
       "    }\n",
       "\n",
       "    .dataframe thead th {\n",
       "        text-align: right;\n",
       "    }\n",
       "</style>\n",
       "<table border=\"1\" class=\"dataframe\">\n",
       "  <thead>\n",
       "    <tr style=\"text-align: right;\">\n",
       "      <th></th>\n",
       "      <th>school</th>\n",
       "      <th>sex</th>\n",
       "      <th>age</th>\n",
       "      <th>address</th>\n",
       "      <th>famsize</th>\n",
       "      <th>Pstatus</th>\n",
       "      <th>Medu</th>\n",
       "      <th>Fedu</th>\n",
       "      <th>Mjob</th>\n",
       "      <th>Fjob</th>\n",
       "      <th>...</th>\n",
       "      <th>Dalc</th>\n",
       "      <th>Walc</th>\n",
       "      <th>health</th>\n",
       "      <th>absences</th>\n",
       "      <th>G1</th>\n",
       "      <th>G2</th>\n",
       "      <th>G3</th>\n",
       "      <th>avgscore</th>\n",
       "      <th>y_binary</th>\n",
       "      <th>avggrade</th>\n",
       "    </tr>\n",
       "  </thead>\n",
       "  <tbody>\n",
       "    <tr>\n",
       "      <th>0</th>\n",
       "      <td>GP</td>\n",
       "      <td>F</td>\n",
       "      <td>18</td>\n",
       "      <td>U</td>\n",
       "      <td>GT3</td>\n",
       "      <td>A</td>\n",
       "      <td>4</td>\n",
       "      <td>4</td>\n",
       "      <td>at_home</td>\n",
       "      <td>teacher</td>\n",
       "      <td>...</td>\n",
       "      <td>1</td>\n",
       "      <td>1</td>\n",
       "      <td>3</td>\n",
       "      <td>6</td>\n",
       "      <td>5</td>\n",
       "      <td>6</td>\n",
       "      <td>6</td>\n",
       "      <td>5.67</td>\n",
       "      <td>0</td>\n",
       "      <td>F</td>\n",
       "    </tr>\n",
       "    <tr>\n",
       "      <th>1</th>\n",
       "      <td>GP</td>\n",
       "      <td>F</td>\n",
       "      <td>17</td>\n",
       "      <td>U</td>\n",
       "      <td>GT3</td>\n",
       "      <td>T</td>\n",
       "      <td>1</td>\n",
       "      <td>1</td>\n",
       "      <td>at_home</td>\n",
       "      <td>other</td>\n",
       "      <td>...</td>\n",
       "      <td>1</td>\n",
       "      <td>1</td>\n",
       "      <td>3</td>\n",
       "      <td>4</td>\n",
       "      <td>5</td>\n",
       "      <td>5</td>\n",
       "      <td>6</td>\n",
       "      <td>5.33</td>\n",
       "      <td>0</td>\n",
       "      <td>F</td>\n",
       "    </tr>\n",
       "    <tr>\n",
       "      <th>2</th>\n",
       "      <td>GP</td>\n",
       "      <td>F</td>\n",
       "      <td>15</td>\n",
       "      <td>U</td>\n",
       "      <td>LE3</td>\n",
       "      <td>T</td>\n",
       "      <td>1</td>\n",
       "      <td>1</td>\n",
       "      <td>at_home</td>\n",
       "      <td>other</td>\n",
       "      <td>...</td>\n",
       "      <td>2</td>\n",
       "      <td>3</td>\n",
       "      <td>3</td>\n",
       "      <td>10</td>\n",
       "      <td>7</td>\n",
       "      <td>8</td>\n",
       "      <td>10</td>\n",
       "      <td>8.33</td>\n",
       "      <td>0</td>\n",
       "      <td>F</td>\n",
       "    </tr>\n",
       "    <tr>\n",
       "      <th>3</th>\n",
       "      <td>GP</td>\n",
       "      <td>F</td>\n",
       "      <td>15</td>\n",
       "      <td>U</td>\n",
       "      <td>GT3</td>\n",
       "      <td>T</td>\n",
       "      <td>4</td>\n",
       "      <td>2</td>\n",
       "      <td>health</td>\n",
       "      <td>services</td>\n",
       "      <td>...</td>\n",
       "      <td>1</td>\n",
       "      <td>1</td>\n",
       "      <td>5</td>\n",
       "      <td>2</td>\n",
       "      <td>15</td>\n",
       "      <td>14</td>\n",
       "      <td>15</td>\n",
       "      <td>14.67</td>\n",
       "      <td>1</td>\n",
       "      <td>C</td>\n",
       "    </tr>\n",
       "    <tr>\n",
       "      <th>4</th>\n",
       "      <td>GP</td>\n",
       "      <td>F</td>\n",
       "      <td>16</td>\n",
       "      <td>U</td>\n",
       "      <td>GT3</td>\n",
       "      <td>T</td>\n",
       "      <td>3</td>\n",
       "      <td>3</td>\n",
       "      <td>other</td>\n",
       "      <td>other</td>\n",
       "      <td>...</td>\n",
       "      <td>1</td>\n",
       "      <td>2</td>\n",
       "      <td>5</td>\n",
       "      <td>4</td>\n",
       "      <td>6</td>\n",
       "      <td>10</td>\n",
       "      <td>10</td>\n",
       "      <td>8.67</td>\n",
       "      <td>0</td>\n",
       "      <td>F</td>\n",
       "    </tr>\n",
       "    <tr>\n",
       "      <th>...</th>\n",
       "      <td>...</td>\n",
       "      <td>...</td>\n",
       "      <td>...</td>\n",
       "      <td>...</td>\n",
       "      <td>...</td>\n",
       "      <td>...</td>\n",
       "      <td>...</td>\n",
       "      <td>...</td>\n",
       "      <td>...</td>\n",
       "      <td>...</td>\n",
       "      <td>...</td>\n",
       "      <td>...</td>\n",
       "      <td>...</td>\n",
       "      <td>...</td>\n",
       "      <td>...</td>\n",
       "      <td>...</td>\n",
       "      <td>...</td>\n",
       "      <td>...</td>\n",
       "      <td>...</td>\n",
       "      <td>...</td>\n",
       "      <td>...</td>\n",
       "    </tr>\n",
       "    <tr>\n",
       "      <th>390</th>\n",
       "      <td>MS</td>\n",
       "      <td>M</td>\n",
       "      <td>20</td>\n",
       "      <td>U</td>\n",
       "      <td>LE3</td>\n",
       "      <td>A</td>\n",
       "      <td>2</td>\n",
       "      <td>2</td>\n",
       "      <td>services</td>\n",
       "      <td>services</td>\n",
       "      <td>...</td>\n",
       "      <td>4</td>\n",
       "      <td>5</td>\n",
       "      <td>4</td>\n",
       "      <td>11</td>\n",
       "      <td>9</td>\n",
       "      <td>9</td>\n",
       "      <td>9</td>\n",
       "      <td>9.00</td>\n",
       "      <td>0</td>\n",
       "      <td>F</td>\n",
       "    </tr>\n",
       "    <tr>\n",
       "      <th>391</th>\n",
       "      <td>MS</td>\n",
       "      <td>M</td>\n",
       "      <td>17</td>\n",
       "      <td>U</td>\n",
       "      <td>LE3</td>\n",
       "      <td>T</td>\n",
       "      <td>3</td>\n",
       "      <td>1</td>\n",
       "      <td>services</td>\n",
       "      <td>services</td>\n",
       "      <td>...</td>\n",
       "      <td>3</td>\n",
       "      <td>4</td>\n",
       "      <td>2</td>\n",
       "      <td>3</td>\n",
       "      <td>14</td>\n",
       "      <td>16</td>\n",
       "      <td>16</td>\n",
       "      <td>15.33</td>\n",
       "      <td>1</td>\n",
       "      <td>C</td>\n",
       "    </tr>\n",
       "    <tr>\n",
       "      <th>392</th>\n",
       "      <td>MS</td>\n",
       "      <td>M</td>\n",
       "      <td>21</td>\n",
       "      <td>R</td>\n",
       "      <td>GT3</td>\n",
       "      <td>T</td>\n",
       "      <td>1</td>\n",
       "      <td>1</td>\n",
       "      <td>other</td>\n",
       "      <td>other</td>\n",
       "      <td>...</td>\n",
       "      <td>3</td>\n",
       "      <td>3</td>\n",
       "      <td>3</td>\n",
       "      <td>3</td>\n",
       "      <td>10</td>\n",
       "      <td>8</td>\n",
       "      <td>7</td>\n",
       "      <td>8.33</td>\n",
       "      <td>0</td>\n",
       "      <td>F</td>\n",
       "    </tr>\n",
       "    <tr>\n",
       "      <th>393</th>\n",
       "      <td>MS</td>\n",
       "      <td>M</td>\n",
       "      <td>18</td>\n",
       "      <td>R</td>\n",
       "      <td>LE3</td>\n",
       "      <td>T</td>\n",
       "      <td>3</td>\n",
       "      <td>2</td>\n",
       "      <td>services</td>\n",
       "      <td>other</td>\n",
       "      <td>...</td>\n",
       "      <td>3</td>\n",
       "      <td>4</td>\n",
       "      <td>5</td>\n",
       "      <td>0</td>\n",
       "      <td>11</td>\n",
       "      <td>12</td>\n",
       "      <td>10</td>\n",
       "      <td>11.00</td>\n",
       "      <td>1</td>\n",
       "      <td>F</td>\n",
       "    </tr>\n",
       "    <tr>\n",
       "      <th>394</th>\n",
       "      <td>MS</td>\n",
       "      <td>M</td>\n",
       "      <td>19</td>\n",
       "      <td>U</td>\n",
       "      <td>LE3</td>\n",
       "      <td>T</td>\n",
       "      <td>1</td>\n",
       "      <td>1</td>\n",
       "      <td>other</td>\n",
       "      <td>at_home</td>\n",
       "      <td>...</td>\n",
       "      <td>3</td>\n",
       "      <td>3</td>\n",
       "      <td>5</td>\n",
       "      <td>5</td>\n",
       "      <td>8</td>\n",
       "      <td>9</td>\n",
       "      <td>9</td>\n",
       "      <td>8.67</td>\n",
       "      <td>0</td>\n",
       "      <td>F</td>\n",
       "    </tr>\n",
       "  </tbody>\n",
       "</table>\n",
       "<p>395 rows × 36 columns</p>\n",
       "</div>"
      ],
      "text/plain": [
       "    school sex  age address famsize Pstatus  Medu  Fedu      Mjob      Fjob  \\\n",
       "0       GP   F   18       U     GT3       A     4     4   at_home   teacher   \n",
       "1       GP   F   17       U     GT3       T     1     1   at_home     other   \n",
       "2       GP   F   15       U     LE3       T     1     1   at_home     other   \n",
       "3       GP   F   15       U     GT3       T     4     2    health  services   \n",
       "4       GP   F   16       U     GT3       T     3     3     other     other   \n",
       "..     ...  ..  ...     ...     ...     ...   ...   ...       ...       ...   \n",
       "390     MS   M   20       U     LE3       A     2     2  services  services   \n",
       "391     MS   M   17       U     LE3       T     3     1  services  services   \n",
       "392     MS   M   21       R     GT3       T     1     1     other     other   \n",
       "393     MS   M   18       R     LE3       T     3     2  services     other   \n",
       "394     MS   M   19       U     LE3       T     1     1     other   at_home   \n",
       "\n",
       "     ... Dalc Walc  health  absences  G1  G2  G3 avgscore y_binary avggrade  \n",
       "0    ...    1    1       3         6   5   6   6     5.67        0        F  \n",
       "1    ...    1    1       3         4   5   5   6     5.33        0        F  \n",
       "2    ...    2    3       3        10   7   8  10     8.33        0        F  \n",
       "3    ...    1    1       5         2  15  14  15    14.67        1        C  \n",
       "4    ...    1    2       5         4   6  10  10     8.67        0        F  \n",
       "..   ...  ...  ...     ...       ...  ..  ..  ..      ...      ...      ...  \n",
       "390  ...    4    5       4        11   9   9   9     9.00        0        F  \n",
       "391  ...    3    4       2         3  14  16  16    15.33        1        C  \n",
       "392  ...    3    3       3         3  10   8   7     8.33        0        F  \n",
       "393  ...    3    4       5         0  11  12  10    11.00        1        F  \n",
       "394  ...    3    3       5         5   8   9   9     8.67        0        F  \n",
       "\n",
       "[395 rows x 36 columns]"
      ]
     },
     "execution_count": 31,
     "metadata": {},
     "output_type": "execute_result"
    }
   ],
   "source": [
    "stud_df\n"
   ]
  },
  {
   "cell_type": "code",
   "execution_count": 32,
   "id": "81be2cd5",
   "metadata": {},
   "outputs": [
    {
     "data": {
      "text/plain": [
       "<AxesSubplot:xlabel='avggrade', ylabel='internet'>"
      ]
     },
     "execution_count": 32,
     "metadata": {},
     "output_type": "execute_result"
    },
    {
     "data": {
      "image/png": "[encoded data removed]",
      "text/plain": [
       "<Figure size 432x288 with 1 Axes>"
      ]
     },
     "metadata": {},
     "output_type": "display_data"
    }
   ],
   "source": [
    "sns.lineplot(data=stud_df, x=\"avggrade\", y=\"internet\")"
   ]
  },
  {
   "cell_type": "code",
   "execution_count": 40,
   "id": "f29a89a8",
   "metadata": {},
   "outputs": [
    {
     "data": {
      "text/plain": [
       "<AxesSubplot:xlabel='internet', ylabel='avgscore'>"
      ]
     },
     "execution_count": 40,
     "metadata": {},
     "output_type": "execute_result"
    },
    {
     "data": {
      "image/png": "[encoded data removed]",
      "text/plain": [
       "<Figure size 432x288 with 1 Axes>"
      ]
     },
     "metadata": {},
     "output_type": "display_data"
    }
   ],
   "source": [
    "sns.barplot(data=stud_df, x=\"internet\", y=\"avgscore\")"
   ]
  },
  {
   "cell_type": "code",
   "execution_count": null,
   "id": "a39807f8",
   "metadata": {},
   "outputs": [],
   "source": []
  }
 ],
 "metadata": {
  "kernelspec": {
   "display_name": "Python 3",
   "language": "python",
   "name": "python3"
  },
  "language_info": {
   "codemirror_mode": {
    "name": "ipython",
    "version": 3
   },
   "file_extension": ".py",
   "mimetype": "text/x-python",
   "name": "python",
   "nbconvert_exporter": "python",
   "pygments_lexer": "ipython3",
   "version": "3.8.10"
  }
 },
 "nbformat": 4,
 "nbformat_minor": 5
}
